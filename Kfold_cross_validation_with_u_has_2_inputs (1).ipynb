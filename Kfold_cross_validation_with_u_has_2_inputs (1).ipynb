{
  "nbformat": 4,
  "nbformat_minor": 0,
  "metadata": {
    "colab": {
      "provenance": []
    },
    "kernelspec": {
      "name": "python3",
      "display_name": "Python 3"
    },
    "language_info": {
      "name": "python"
    }
  },
  "cells": [
    {
      "cell_type": "code",
      "execution_count": null,
      "metadata": {
        "id": "qqjFYgC0GUMP"
      },
      "outputs": [],
      "source": []
    },
    {
      "cell_type": "code",
      "execution_count": null,
      "metadata": {
        "colab": {
          "base_uri": "https://localhost:8080/",
          "height": 1000
        },
        "outputId": "6400ad4c-e167-4bcd-c945-ae126759e1ea",
        "id": "fwXI1QIn0ZGg"
      },
      "outputs": [
        {
          "output_type": "execute_result",
          "data": {
            "text/plain": [
              "array([[ 1.08631173],\n",
              "       [-0.2158826 ],\n",
              "       [ 2.391348  ],\n",
              "       [-3.64112929]])"
            ]
          },
          "metadata": {},
          "execution_count": 16
        },
        {
          "output_type": "execute_result",
          "data": {
            "text/plain": [
              "array([[ 3.63499905],\n",
              "       [-3.42564527],\n",
              "       [ 0.88361462],\n",
              "       [-1.51313435]])"
            ]
          },
          "metadata": {},
          "execution_count": 16
        },
        {
          "output_type": "execute_result",
          "data": {
            "text/plain": [
              "array([[ 4.35127194],\n",
              "       [-4.3095674 ],\n",
              "       [ 1.15437014],\n",
              "       [-0.90963732]])"
            ]
          },
          "metadata": {},
          "execution_count": 16
        },
        {
          "output_type": "execute_result",
          "data": {
            "text/plain": [
              "array([[ 4.90675962],\n",
              "       [-5.04084979],\n",
              "       [ 1.72450133],\n",
              "       [-1.70102727]])"
            ]
          },
          "metadata": {},
          "execution_count": 16
        },
        {
          "output_type": "execute_result",
          "data": {
            "text/plain": [
              "array([[ 5.90435962],\n",
              "       [-6.61631711],\n",
              "       [ 1.21704552],\n",
              "       [-2.72598432]])"
            ]
          },
          "metadata": {},
          "execution_count": 16
        },
        {
          "output_type": "execute_result",
          "data": {
            "text/plain": [
              "array([[ 6.55051721],\n",
              "       [-8.66013051],\n",
              "       [ 1.83351547],\n",
              "       [-3.43151129]])"
            ]
          },
          "metadata": {},
          "execution_count": 16
        },
        {
          "output_type": "execute_result",
          "data": {
            "text/plain": [
              "array([[  7.98462243],\n",
              "       [-10.82670314],\n",
              "       [  0.60756862],\n",
              "       [ -0.0901758 ]])"
            ]
          },
          "metadata": {},
          "execution_count": 16
        },
        {
          "output_type": "execute_result",
          "data": {
            "text/plain": [
              "array([[ 7.91928784],\n",
              "       [-9.62173977],\n",
              "       [-2.29673396],\n",
              "       [-0.65088795]])"
            ]
          },
          "metadata": {},
          "execution_count": 16
        },
        {
          "output_type": "execute_result",
          "data": {
            "text/plain": [
              "array([[ 4.71252422],\n",
              "       [-9.51508628],\n",
              "       [-1.64250331],\n",
              "       [-0.33246934]])"
            ]
          },
          "metadata": {},
          "execution_count": 16
        },
        {
          "output_type": "execute_result",
          "data": {
            "text/plain": [
              "array([[ 2.36047674],\n",
              "       [-9.27674318],\n",
              "       [-1.28578336],\n",
              "       [-0.95629393]])"
            ]
          },
          "metadata": {},
          "execution_count": 16
        },
        {
          "output_type": "execute_result",
          "data": {
            "text/plain": [
              "array([[ 0.85583868],\n",
              "       [-9.28729806],\n",
              "       [-0.88525178],\n",
              "       [-1.81063857]])"
            ]
          },
          "metadata": {},
          "execution_count": 16
        },
        {
          "output_type": "execute_result",
          "data": {
            "text/plain": [
              "array([[ 0.11539425],\n",
              "       [-9.79681176],\n",
              "       [-1.89008315],\n",
              "       [-1.51726797]])"
            ]
          },
          "metadata": {},
          "execution_count": 16
        },
        {
          "output_type": "execute_result",
          "data": {
            "text/plain": [
              "array([[ -1.66345808],\n",
              "       [-10.12485989],\n",
              "       [ -2.12820366],\n",
              "       [ -1.40666193]])"
            ]
          },
          "metadata": {},
          "execution_count": 16
        },
        {
          "output_type": "execute_result",
          "data": {
            "text/plain": [
              "array([[ -3.76913104],\n",
              "       [-10.75068643],\n",
              "       [ -1.99442326],\n",
              "       [ -2.37482625]])"
            ]
          },
          "metadata": {},
          "execution_count": 16
        },
        {
          "output_type": "execute_result",
          "data": {
            "text/plain": [
              "array([[ -5.65908789],\n",
              "       [-12.46702696],\n",
              "       [ -1.04707948],\n",
              "       [ -3.58048295]])"
            ]
          },
          "metadata": {},
          "execution_count": 16
        },
        {
          "output_type": "execute_result",
          "data": {
            "text/plain": [
              "array([[ -6.15339583],\n",
              "       [-14.81461059],\n",
              "       [ -1.6400063 ],\n",
              "       [ -2.27024916]])"
            ]
          },
          "metadata": {},
          "execution_count": 16
        },
        {
          "output_type": "execute_result",
          "data": {
            "text/plain": [
              "array([[ -6.93418545],\n",
              "       [-15.21683396],\n",
              "       [  0.06541514],\n",
              "       [ -0.15821304]])"
            ]
          },
          "metadata": {},
          "execution_count": 16
        },
        {
          "output_type": "execute_result",
          "data": {
            "text/plain": [
              "array([[ -5.97155505],\n",
              "       [-13.55869008],\n",
              "       [  1.88690095],\n",
              "       [  0.832624  ]])"
            ]
          },
          "metadata": {},
          "execution_count": 16
        },
        {
          "output_type": "execute_result",
          "data": {
            "text/plain": [
              "array([[ -3.64766264],\n",
              "       [-11.61902556],\n",
              "       [  2.13312702],\n",
              "       [  0.20730926]])"
            ]
          },
          "metadata": {},
          "execution_count": 16
        },
        {
          "output_type": "execute_result",
          "data": {
            "text/plain": [
              "array([[ -1.4010049 ],\n",
              "       [-10.64411004],\n",
              "       [  1.81027052],\n",
              "       [  0.43051254]])"
            ]
          },
          "metadata": {},
          "execution_count": 16
        },
        {
          "output_type": "execute_result",
          "data": {
            "text/plain": [
              "array([[ 0.5618024 ],\n",
              "       [-9.13611962],\n",
              "       [-0.62157625],\n",
              "       [-1.21827322]])"
            ]
          },
          "metadata": {},
          "execution_count": 16
        },
        {
          "output_type": "execute_result",
          "data": {
            "text/plain": [
              "array([[ 0.16721964],\n",
              "       [-9.01292701],\n",
              "       [ 0.03068437],\n",
              "       [ 0.38689644]])"
            ]
          },
          "metadata": {},
          "execution_count": 16
        },
        {
          "output_type": "execute_result",
          "data": {
            "text/plain": [
              "array([[ 0.33831179],\n",
              "       [-7.47909753],\n",
              "       [ 0.80353308],\n",
              "       [ 2.21619993]])"
            ]
          },
          "metadata": {},
          "execution_count": 16
        },
        {
          "output_type": "execute_result",
          "data": {
            "text/plain": [
              "array([[ 1.01475993],\n",
              "       [-4.69351341],\n",
              "       [ 0.74847498],\n",
              "       [ 2.60380677]])"
            ]
          },
          "metadata": {},
          "execution_count": 16
        },
        {
          "output_type": "execute_result",
          "data": {
            "text/plain": [
              "array([[ 1.42337006],\n",
              "       [-2.00115352],\n",
              "       [ 1.73180007],\n",
              "       [ 0.52563618]])"
            ]
          },
          "metadata": {},
          "execution_count": 16
        },
        {
          "output_type": "execute_result",
          "data": {
            "text/plain": [
              "array([[ 3.01731135],\n",
              "       [-1.27069669],\n",
              "       [ 1.56755296],\n",
              "       [-0.05513684]])"
            ]
          },
          "metadata": {},
          "execution_count": 16
        },
        {
          "output_type": "execute_result",
          "data": {
            "text/plain": [
              "array([[ 4.51263183],\n",
              "       [-0.82730662],\n",
              "       [ 0.71793543],\n",
              "       [ 1.7388421 ]])"
            ]
          },
          "metadata": {},
          "execution_count": 16
        },
        {
          "output_type": "execute_result",
          "data": {
            "text/plain": [
              "array([[4.94473341],\n",
              "       [1.2486269 ],\n",
              "       [0.14918232],\n",
              "       [2.01906754]])"
            ]
          },
          "metadata": {},
          "execution_count": 16
        },
        {
          "output_type": "execute_result",
          "data": {
            "text/plain": [
              "array([[ 4.42790532],\n",
              "       [ 2.88205358],\n",
              "       [-1.42461415],\n",
              "       [ 2.13619037]])"
            ]
          },
          "metadata": {},
          "execution_count": 16
        },
        {
          "output_type": "execute_result",
          "data": {
            "text/plain": [
              "array([[ 2.3545672 ],\n",
              "       [ 4.38334142],\n",
              "       [-0.09241754],\n",
              "       [ 1.48472172]])"
            ]
          },
          "metadata": {},
          "execution_count": 16
        },
        {
          "output_type": "execute_result",
          "data": {
            "text/plain": [
              "array([[ 2.04738328],\n",
              "       [ 5.45146844],\n",
              "       [-2.04114436],\n",
              "       [ 2.43720767]])"
            ]
          },
          "metadata": {},
          "execution_count": 16
        },
        {
          "output_type": "execute_result",
          "data": {
            "text/plain": [
              "array([[ 0.00930883],\n",
              "       [ 7.69219628],\n",
              "       [-1.30704409],\n",
              "       [ 2.44733892]])"
            ]
          },
          "metadata": {},
          "execution_count": 16
        },
        {
          "output_type": "execute_result",
          "data": {
            "text/plain": [
              "array([[-1.12422015],\n",
              "       [ 9.63415017],\n",
              "       [-1.19256049],\n",
              "       [ 3.32529241]])"
            ]
          },
          "metadata": {},
          "execution_count": 16
        },
        {
          "output_type": "execute_result",
          "data": {
            "text/plain": [
              "array([[-2.35207227],\n",
              "       [11.76028077],\n",
              "       [-0.16315486],\n",
              "       [ 1.91615264]])"
            ]
          },
          "metadata": {},
          "execution_count": 16
        },
        {
          "output_type": "execute_result",
          "data": {
            "text/plain": [
              "array([[-2.5083284 ],\n",
              "       [12.1301986 ],\n",
              "       [-0.1089297 ],\n",
              "       [-0.35769509]])"
            ]
          },
          "metadata": {},
          "execution_count": 16
        },
        {
          "output_type": "execute_result",
          "data": {
            "text/plain": [
              "array([[-2.36341882],\n",
              "       [10.56264251],\n",
              "       [-1.07430179],\n",
              "       [-1.11373602]])"
            ]
          },
          "metadata": {},
          "execution_count": 16
        },
        {
          "output_type": "execute_result",
          "data": {
            "text/plain": [
              "array([[-2.99880639],\n",
              "       [ 8.73580788],\n",
              "       [-1.69137791],\n",
              "       [-1.02407002]])"
            ]
          },
          "metadata": {},
          "execution_count": 16
        },
        {
          "output_type": "execute_result",
          "data": {
            "text/plain": [
              "array([[-4.26477275],\n",
              "       [ 7.05059638],\n",
              "       [-2.53848495],\n",
              "       [-0.12103744]])"
            ]
          },
          "metadata": {},
          "execution_count": 16
        },
        {
          "output_type": "execute_result",
          "data": {
            "text/plain": [
              "array([[-6.54033701],\n",
              "       [ 5.97210626],\n",
              "       [-2.82236923],\n",
              "       [-0.22876119]])"
            ]
          },
          "metadata": {},
          "execution_count": 16
        },
        {
          "output_type": "execute_result",
          "data": {
            "text/plain": [
              "array([[-8.91667403],\n",
              "       [ 4.79726437],\n",
              "       [-4.12319631],\n",
              "       [-0.75367648]])"
            ]
          },
          "metadata": {},
          "execution_count": 16
        },
        {
          "output_type": "execute_result",
          "data": {
            "text/plain": [
              "array([[-12.17546835],\n",
              "       [  3.53521356],\n",
              "       [ -3.74338239],\n",
              "       [ -0.92196228]])"
            ]
          },
          "metadata": {},
          "execution_count": 16
        },
        {
          "output_type": "execute_result",
          "data": {
            "text/plain": [
              "array([[-14.46420903],\n",
              "       [  2.63916856],\n",
              "       [ -4.41929417],\n",
              "       [ -0.47816291]])"
            ]
          },
          "metadata": {},
          "execution_count": 16
        },
        {
          "output_type": "execute_result",
          "data": {
            "text/plain": [
              "array([[-17.29370638],\n",
              "       [  2.12827791],\n",
              "       [ -3.61629297],\n",
              "       [ -0.03965631]])"
            ]
          },
          "metadata": {},
          "execution_count": 16
        },
        {
          "output_type": "execute_result",
          "data": {
            "text/plain": [
              "array([[-19.3899088 ],\n",
              "       [  1.57535888],\n",
              "       [ -5.02138078],\n",
              "       [ -0.57999241]])"
            ]
          },
          "metadata": {},
          "execution_count": 16
        },
        {
          "output_type": "execute_result",
          "data": {
            "text/plain": [
              "array([[-2.27196322e+01],\n",
              "       [ 4.47634187e-01],\n",
              "       [-6.01450954e+00],\n",
              "       [-1.61420823e-02]])"
            ]
          },
          "metadata": {},
          "execution_count": 16
        },
        {
          "output_type": "execute_result",
          "data": {
            "text/plain": [
              "array([[-26.43141274],\n",
              "       [  0.41905444],\n",
              "       [ -5.97538995],\n",
              "       [ -1.88760527]])"
            ]
          },
          "metadata": {},
          "execution_count": 16
        },
        {
          "output_type": "execute_result",
          "data": {
            "text/plain": [
              "array([[-29.54802668],\n",
              "       [ -1.15356592],\n",
              "       [ -5.46354355],\n",
              "       [ -1.18864967]])"
            ]
          },
          "metadata": {},
          "execution_count": 16
        },
        {
          "output_type": "execute_result",
          "data": {
            "text/plain": [
              "array([[-31.92300268],\n",
              "       [ -2.00576822],\n",
              "       [ -5.24176061],\n",
              "       [ -1.38529676]])"
            ]
          },
          "metadata": {},
          "execution_count": 16
        },
        {
          "output_type": "execute_result",
          "data": {
            "text/plain": [
              "array([[-34.10763014],\n",
              "       [ -3.41305226],\n",
              "       [ -4.49428036],\n",
              "       [ -2.64147752]])"
            ]
          },
          "metadata": {},
          "execution_count": 16
        },
        {
          "output_type": "execute_result",
          "data": {
            "text/plain": [
              "array([[-35.40539229],\n",
              "       [ -6.06865451],\n",
              "       [ -5.14597527],\n",
              "       [ -3.24163643]])"
            ]
          },
          "metadata": {},
          "execution_count": 16
        },
        {
          "output_type": "execute_result",
          "data": {
            "text/plain": [
              "array([[-36.98351453],\n",
              "       [ -8.67472676],\n",
              "       [ -4.60530715],\n",
              "       [ -1.76512027]])"
            ]
          },
          "metadata": {},
          "execution_count": 16
        },
        {
          "output_type": "execute_result",
          "data": {
            "text/plain": [
              "array([[-37.65185679],\n",
              "       [ -9.19134018],\n",
              "       [ -3.69979029],\n",
              "       [ -1.50913886]])"
            ]
          },
          "metadata": {},
          "execution_count": 16
        },
        {
          "output_type": "execute_result",
          "data": {
            "text/plain": [
              "array([[-37.46883172],\n",
              "       [ -9.57720757],\n",
              "       [ -2.89669717],\n",
              "       [ -2.06372803]])"
            ]
          },
          "metadata": {},
          "execution_count": 16
        },
        {
          "output_type": "execute_result",
          "data": {
            "text/plain": [
              "array([[-36.75433113],\n",
              "       [-10.90632353],\n",
              "       [ -1.15959128],\n",
              "       [ -2.30255186]])"
            ]
          },
          "metadata": {},
          "execution_count": 16
        },
        {
          "output_type": "execute_result",
          "data": {
            "text/plain": [
              "array([[-34.5130887 ],\n",
              "       [-12.53708783],\n",
              "       [ -2.75453605],\n",
              "       [ -1.70209953]])"
            ]
          },
          "metadata": {},
          "execution_count": 16
        },
        {
          "output_type": "execute_result",
          "data": {
            "text/plain": [
              "array([[-33.86525288],\n",
              "       [-13.0368969 ],\n",
              "       [ -3.93612686],\n",
              "       [ -3.06105238]])"
            ]
          },
          "metadata": {},
          "execution_count": 16
        },
        {
          "output_type": "execute_result",
          "data": {
            "text/plain": [
              "array([[-34.22530941],\n",
              "       [-14.46478178],\n",
              "       [ -4.45654368],\n",
              "       [ -2.33202744]])"
            ]
          },
          "metadata": {},
          "execution_count": 16
        },
        {
          "output_type": "execute_result",
          "data": {
            "text/plain": [
              "array([[-35.09203125],\n",
              "       [-15.09401435],\n",
              "       [ -2.48216116],\n",
              "       [ -0.5489152 ]])"
            ]
          },
          "metadata": {},
          "execution_count": 16
        },
        {
          "output_type": "execute_result",
          "data": {
            "text/plain": [
              "array([[-34.17730971],\n",
              "       [-14.3320871 ],\n",
              "       [ -1.79347835],\n",
              "       [  0.49231497]])"
            ]
          },
          "metadata": {},
          "execution_count": 16
        },
        {
          "output_type": "execute_result",
          "data": {
            "text/plain": [
              "array([[-32.75147112],\n",
              "       [-12.74535992],\n",
              "       [ -1.78510387],\n",
              "       [ -0.35930094]])"
            ]
          },
          "metadata": {},
          "execution_count": 16
        },
        {
          "output_type": "execute_result",
          "data": {
            "text/plain": [
              "array([[-31.26192168],\n",
              "       [-11.83064371],\n",
              "       [ -2.21573179],\n",
              "       [  0.09631247]])"
            ]
          },
          "metadata": {},
          "execution_count": 16
        },
        {
          "output_type": "execute_result",
          "data": {
            "text/plain": [
              "array([[-30.12890125],\n",
              "       [-10.18710004],\n",
              "       [ -2.17255611],\n",
              "       [  1.66612648]])"
            ]
          },
          "metadata": {},
          "execution_count": 16
        },
        {
          "output_type": "execute_result",
          "data": {
            "text/plain": [
              "array([[-29.17959371],\n",
              "       [ -7.30722117],\n",
              "       [ -0.61594084],\n",
              "       [  1.77465245]])"
            ]
          },
          "metadata": {},
          "execution_count": 16
        },
        {
          "output_type": "execute_result",
          "data": {
            "text/plain": [
              "array([[-27.05787487],\n",
              "       [ -5.0718317 ],\n",
              "       [ -0.77520314],\n",
              "       [  0.25383167]])"
            ]
          },
          "metadata": {},
          "execution_count": 16
        },
        {
          "output_type": "execute_result",
          "data": {
            "text/plain": [
              "array([[-25.32227353],\n",
              "       [ -4.64600836],\n",
              "       [ -1.02491136],\n",
              "       [ -0.92052541]])"
            ]
          },
          "metadata": {},
          "execution_count": 16
        },
        {
          "output_type": "execute_result",
          "data": {
            "text/plain": [
              "array([[-23.82701032],\n",
              "       [ -5.11459685],\n",
              "       [ -2.24503319],\n",
              "       [ -0.21612899]])"
            ]
          },
          "metadata": {},
          "execution_count": 16
        },
        {
          "output_type": "execute_result",
          "data": {
            "text/plain": [
              "array([[-23.41385998],\n",
              "       [ -4.39949348],\n",
              "       [ -2.54227732],\n",
              "       [ -0.3088171 ]])"
            ]
          },
          "metadata": {},
          "execution_count": 16
        },
        {
          "output_type": "execute_result",
          "data": {
            "text/plain": [
              "array([[-23.47203602],\n",
              "       [ -4.03786623],\n",
              "       [ -2.90399694],\n",
              "       [ -0.9078458 ]])"
            ]
          },
          "metadata": {},
          "execution_count": 16
        },
        {
          "output_type": "execute_result",
          "data": {
            "text/plain": [
              "array([[-2.41793484e+01],\n",
              "       [-4.78061987e+00],\n",
              "       [-5.16457036e+00],\n",
              "       [-4.60672814e-03]])"
            ]
          },
          "metadata": {},
          "execution_count": 16
        },
        {
          "output_type": "execute_result",
          "data": {
            "text/plain": [
              "array([[-27.20644557],\n",
              "       [ -4.73216888],\n",
              "       [ -5.47701624],\n",
              "       [ -0.97264008]])"
            ]
          },
          "metadata": {},
          "execution_count": 16
        },
        {
          "output_type": "execute_result",
          "data": {
            "text/plain": [
              "array([[-29.91990232],\n",
              "       [ -5.18650118],\n",
              "       [ -6.31063358],\n",
              "       [ -1.58727297]])"
            ]
          },
          "metadata": {},
          "execution_count": 16
        },
        {
          "output_type": "execute_result",
          "data": {
            "text/plain": [
              "array([[-32.98481519],\n",
              "       [ -5.8582063 ],\n",
              "       [ -5.1680997 ],\n",
              "       [ -2.14840426]])"
            ]
          },
          "metadata": {},
          "execution_count": 16
        },
        {
          "output_type": "execute_result",
          "data": {
            "text/plain": [
              "array([[-34.74000379],\n",
              "       [ -7.22001484],\n",
              "       [ -5.40486023],\n",
              "       [ -1.04154058]])"
            ]
          },
          "metadata": {},
          "execution_count": 16
        },
        {
          "output_type": "execute_result",
          "data": {
            "text/plain": [
              "array([[-36.84136689],\n",
              "       [ -7.79924586],\n",
              "       [ -5.35236084],\n",
              "       [ -1.64930068]])"
            ]
          },
          "metadata": {},
          "execution_count": 16
        },
        {
          "output_type": "execute_result",
          "data": {
            "text/plain": [
              "array([[-38.76087512],\n",
              "       [ -9.06296924],\n",
              "       [ -6.72304503],\n",
              "       [ -2.88860913]])"
            ]
          },
          "metadata": {},
          "execution_count": 16
        },
        {
          "output_type": "execute_result",
          "data": {
            "text/plain": [
              "array([[-41.60097363],\n",
              "       [-11.03807465],\n",
              "       [ -5.0421445 ],\n",
              "       [ -3.05685617]])"
            ]
          },
          "metadata": {},
          "execution_count": 16
        },
        {
          "output_type": "execute_result",
          "data": {
            "text/plain": [
              "array([[-42.26748072],\n",
              "       [-12.63433247],\n",
              "       [ -5.09449038],\n",
              "       [ -2.640723  ]])"
            ]
          },
          "metadata": {},
          "execution_count": 16
        },
        {
          "output_type": "execute_result",
          "data": {
            "text/plain": [
              "array([[-42.98934684],\n",
              "       [-13.77780604],\n",
              "       [ -3.98692194],\n",
              "       [ -1.34972092]])"
            ]
          },
          "metadata": {},
          "execution_count": 16
        },
        {
          "output_type": "execute_result",
          "data": {
            "text/plain": [
              "array([[-42.82814438],\n",
              "       [-13.9887468 ],\n",
              "       [ -4.45429108],\n",
              "       [ -0.47059737]])"
            ]
          },
          "metadata": {},
          "execution_count": 16
        },
        {
          "output_type": "execute_result",
          "data": {
            "text/plain": [
              "array([[-43.20343037],\n",
              "       [-13.40493487],\n",
              "       [ -3.39733017],\n",
              "       [ -1.06170003]])"
            ]
          },
          "metadata": {},
          "execution_count": 16
        },
        {
          "output_type": "execute_result",
          "data": {
            "text/plain": [
              "array([[-42.27371827],\n",
              "       [-13.1191025 ],\n",
              "       [ -0.91190303],\n",
              "       [ -2.04186131]])"
            ]
          },
          "metadata": {},
          "execution_count": 16
        },
        {
          "output_type": "execute_result",
          "data": {
            "text/plain": [
              "array([[-38.72765716],\n",
              "       [-13.4764472 ],\n",
              "       [ -0.43207118],\n",
              "       [ -1.2989508 ]])"
            ]
          },
          "metadata": {},
          "execution_count": 16
        },
        {
          "output_type": "execute_result",
          "data": {
            "text/plain": [
              "array([[-35.1621829 ],\n",
              "       [-13.21610325],\n",
              "       [ -0.309911  ],\n",
              "       [ -1.31957166]])"
            ]
          },
          "metadata": {},
          "execution_count": 16
        },
        {
          "output_type": "execute_result",
          "data": {
            "text/plain": [
              "array([[-3.21187817e+01],\n",
              "       [-1.34657741e+01],\n",
              "       [ 3.49504450e-03],\n",
              "       [-1.90797544e+00]])"
            ]
          },
          "metadata": {},
          "execution_count": 16
        },
        {
          "output_type": "execute_result",
          "data": {
            "text/plain": [
              "array([[-29.17525546],\n",
              "       [-14.44312498],\n",
              "       [ -0.69523771],\n",
              "       [ -2.24352516]])"
            ]
          },
          "metadata": {},
          "execution_count": 16
        },
        {
          "output_type": "execute_result",
          "data": {
            "text/plain": [
              "array([[-26.95581695],\n",
              "       [-15.24533144],\n",
              "       [ -1.92840003],\n",
              "       [ -0.96401557]])"
            ]
          },
          "metadata": {},
          "execution_count": 16
        },
        {
          "output_type": "execute_result",
          "data": {
            "text/plain": [
              "array([[-25.95771024],\n",
              "       [-14.31185791],\n",
              "       [ -1.96449597],\n",
              "       [  1.0249916 ]])"
            ]
          },
          "metadata": {},
          "execution_count": 16
        },
        {
          "output_type": "execute_result",
          "data": {
            "text/plain": [
              "array([[-25.16666786],\n",
              "       [-11.60726887],\n",
              "       [ -0.98359491],\n",
              "       [  1.26781797]])"
            ]
          },
          "metadata": {},
          "execution_count": 16
        },
        {
          "output_type": "execute_result",
          "data": {
            "text/plain": [
              "array([[-23.7953767 ],\n",
              "       [ -9.42925115],\n",
              "       [ -1.71705478],\n",
              "       [  1.15810714]])"
            ]
          },
          "metadata": {},
          "execution_count": 16
        },
        {
          "output_type": "execute_result",
          "data": {
            "text/plain": [
              "array([[-23.32878375],\n",
              "       [ -7.66436332],\n",
              "       [ -2.20070092],\n",
              "       [  0.77479511]])"
            ]
          },
          "metadata": {},
          "execution_count": 16
        },
        {
          "output_type": "execute_result",
          "data": {
            "text/plain": [
              "array([[-23.24186414],\n",
              "       [ -6.17068449],\n",
              "       [ -3.7437178 ],\n",
              "       [  1.17438901]])"
            ]
          },
          "metadata": {},
          "execution_count": 16
        },
        {
          "output_type": "execute_result",
          "data": {
            "text/plain": [
              "array([[-24.43710828],\n",
              "       [ -4.01324544],\n",
              "       [ -4.02559411],\n",
              "       [  2.32976822]])"
            ]
          },
          "metadata": {},
          "execution_count": 16
        },
        {
          "output_type": "execute_result",
          "data": {
            "text/plain": [
              "array([[-25.84679799],\n",
              "       [ -1.02068471],\n",
              "       [ -3.07973914],\n",
              "       [  2.43365853]])"
            ]
          },
          "metadata": {},
          "execution_count": 16
        },
        {
          "output_type": "execute_result",
          "data": {
            "text/plain": [
              "array([[-26.5103745 ],\n",
              "       [  1.25743713],\n",
              "       [ -3.11262152],\n",
              "       [  1.64554199]])"
            ]
          },
          "metadata": {},
          "execution_count": 16
        },
        {
          "output_type": "execute_result",
          "data": {
            "text/plain": [
              "array([[-27.2589925 ],\n",
              "       [  2.34532561],\n",
              "       [ -1.89262385],\n",
              "       [ -0.39096239]])"
            ]
          },
          "metadata": {},
          "execution_count": 16
        },
        {
          "output_type": "execute_result",
          "data": {
            "text/plain": [
              "array([[-26.38070807],\n",
              "       [  1.76712184],\n",
              "       [ -0.40604023],\n",
              "       [ -0.36710962]])"
            ]
          },
          "metadata": {},
          "execution_count": 16
        },
        {
          "output_type": "execute_result",
          "data": {
            "text/plain": [
              "array([[-23.89089796],\n",
              "       [  1.62447212],\n",
              "       [  0.83716807],\n",
              "       [  0.13696302]])"
            ]
          },
          "metadata": {},
          "execution_count": 16
        },
        {
          "output_type": "execute_result",
          "data": {
            "text/plain": [
              "array([[-20.5209994 ],\n",
              "       [  1.83045526],\n",
              "       [  0.90052968],\n",
              "       [  2.05102797]])"
            ]
          },
          "metadata": {},
          "execution_count": 16
        },
        {
          "output_type": "execute_result",
          "data": {
            "text/plain": [
              "array([[-17.71604051],\n",
              "       [  3.46273599],\n",
              "       [  0.81701661],\n",
              "       [  0.83146094]])"
            ]
          },
          "metadata": {},
          "execution_count": 16
        },
        {
          "output_type": "execute_result",
          "data": {
            "text/plain": [
              "array([[-15.35551238],\n",
              "       [  3.57794351],\n",
              "       [  0.6578232 ],\n",
              "       [ -0.44222185]])"
            ]
          },
          "metadata": {},
          "execution_count": 16
        },
        {
          "output_type": "execute_result",
          "data": {
            "text/plain": [
              "[<matplotlib.lines.Line2D at 0x7fc26dab56f0>]"
            ]
          },
          "metadata": {},
          "execution_count": 16
        },
        {
          "output_type": "execute_result",
          "data": {
            "text/plain": [
              "Text(0.5, 0, 'Lambda')"
            ]
          },
          "metadata": {},
          "execution_count": 16
        },
        {
          "output_type": "execute_result",
          "data": {
            "text/plain": [
              "Text(0, 0.5, 'RMS Error')"
            ]
          },
          "metadata": {},
          "execution_count": 16
        },
        {
          "output_type": "execute_result",
          "data": {
            "text/plain": [
              "Text(0.5, 1.0, 'RMS Error vs. Lambda')"
            ]
          },
          "metadata": {},
          "execution_count": 16
        },
        {
          "output_type": "display_data",
          "data": {
            "text/plain": [
              "<Figure size 640x480 with 1 Axes>"
            ],
            "image/png": "[encoded data removed]"
          },
          "metadata": {}
        }
      ],
      "source": [
        "import numpy as np\n",
        "from sklearn.model_selection import train_test_split\n",
        "from sklearn.metrics import mean_squared_error\n",
        "import matplotlib.pyplot as plt\n",
        "from sklearn.model_selection import KFold\n",
        "import numpy as np\n",
        "import numpy.linalg as npl\n",
        "import scipy.linalg as spl\n",
        "import sklearn.metrics as sklm\n",
        "import math\n",
        "import matplotlib.pyplot as plt\n",
        "import pandas as pd #for debugging\n",
        "\n",
        "from IPython.core.interactiveshell import InteractiveShell\n",
        "InteractiveShell.ast_node_interactivity = \"all\"\n",
        "def cls_solve(A,b,C,d):\n",
        "    m,n = np.shape(A)\n",
        "    p,n = np.shape(C)\n",
        "    Q,R = npl.qr(np.vstack([A,C]))\n",
        "    Q1 = Q[0:m,:]\n",
        "    # print(\"q1 shape is \",Q1.shape)\n",
        "    Q2 = Q[m:m+p,:]\n",
        "    # print(b.shape,\"shape of btil\")\n",
        "    Qtil, Rtil = npl.qr(Q2.T)\n",
        "    # print(\"qtil and Rtil\")\n",
        "    # print(Qtil.shape, Rtil.shape)\n",
        "    first = np.vstack((np.matmul(np.matmul(2*Qtil.T, Q1.T),b)))\n",
        "    # print(\"first shape\")\n",
        "    # print(first.shape)\n",
        "    denom = first - np.vstack((2*(npl.lstsq(Rtil.T, d, rcond=None)[0])))\n",
        "    k = npl.lstsq(Rtil, denom, rcond=None)[0]\n",
        "    return npl.lstsq(R, np.vstack(np.matmul(Q1.T, b)) - np.matmul(Q2.T , k)/2, rcond=None)[0]\n",
        "def lqe(A, B, C,G, y1, T, lam,rcond):\n",
        "    n = A.shape[0]\n",
        "    m = B.shape[1]\n",
        "    p = C.shape[0]\n",
        "    shape1 = (T * p, m*(T-1))\n",
        "    Atil_top = np.kron(np.eye(T), C)  # This is 200 x 400\n",
        "    Additional_matrix = np.random.rand(T * p, (T * p)-6)  # Adjust dimensions to match Atil_top width\n",
        "\n",
        "# Ensure the zeros array used in the concatenation below is of correct dimensions\n",
        "    zeros_shape = (T * p, m * (T - 1))\n",
        "    Atil_top_extended = np.hstack((Atil_top, Additional_matrix))\n",
        "\n",
        "# Review dimensions for the block operation\n",
        "    Atil = np.block([[Atil_top_extended, np.zeros(zeros_shape)],[np.zeros((m * (T - 1), Atil_top_extended.shape[1])), np.sqrt(lam) * np.eye(m * (T - 1))]])\n",
        "    # print(Atil.shape,\"#########\")\n",
        "    y_flat = y1.T.flatten()\n",
        "    zeros_part = np.zeros(m * (119))\n",
        "    btil = np.concatenate((y_flat, zeros_part)).reshape(-1, 1)\n",
        "    # print(btil.shape)\n",
        "    Ctil = np.block([\n",
        "    [np.kron(np.eye(T-1), A) - np.eye(n * (T-1 ), k=n), np.kron(np.eye(T-1), G), np.kron(np.eye(T-1), B)]])\n",
        "    # print(Ctil.shape,\"####\")\n",
        "    dtil = np.zeros(n * (T - 1))\n",
        "    # print(dtil.shape)\n",
        "    z = cls_solve(Atil, btil, Ctil, dtil)\n",
        "    x_hat = [z[i * n:(i + 1) * n] for i in range(T)]\n",
        "    u_hat_start_index = T * n\n",
        "    u_hat_end_index = u_hat_start_index + (T)\n",
        "    u_hat = [z[u_hat_start_index + i : u_hat_start_index + (i + 1) ] for i in range(2 * (T-1))]\n",
        "    w_hat_start_index = u_hat_end_index\n",
        "    w_hat_end_index = w_hat_start_index + (T - 1) * p\n",
        "    w_hat = [z[w_hat_start_index + i * p: w_hat_start_index + (i + 1) * p] for i in range((T - 1) * 2)]\n",
        "    return x_hat\n",
        "\n",
        "\n",
        "def calculate_x_next(t, x, w, A, B, G, u):\n",
        "    # Base case: ensure initial state is returned as a column vector\n",
        "    if t == 0:\n",
        "        return np.array(x[0]).reshape(-1, 1)\n",
        "\n",
        "    # Check if state at time t has already been calculated\n",
        "    if len(x) > t:\n",
        "        return np.array(x[t]).reshape(-1, 1)\n",
        "\n",
        "    # Recursive call to get the previous state\n",
        "    x_prev = calculate_x_next(t - 1, x, w, A, B, G, u)\n",
        "\n",
        "    # Process noise and control input for the current timestep\n",
        "    w_t = np.array(w[t - 1]).reshape(-1, 1)\n",
        "    u_t = np.array([u[t - 1]] if t - 1 < len(u) else [0]).reshape(-1, 1)\n",
        "\n",
        "    # State update equation\n",
        "    x_t = A @ x_prev + B @ w_t + G @ u_t\n",
        "\n",
        "    # Append the newly calculated state to the state vector list\n",
        "    x.append(x_t.flatten())  # Store as a 1D array for easier handling\n",
        "\n",
        "    # Return the new state as a column vector\n",
        "    return x_t\n",
        "\n",
        "\n",
        "\n",
        "############## Input Cases#################\n",
        "T = 100\n",
        "lambda_values = np.logspace(-4,5, num=20)\n",
        "# A = np.block([[np.eye(2), np.eye(2)], [np.zeros((2, 2)), np.eye(2)]])\n",
        "A = np.array([[0.9, 0, 1, 0],\n",
        "              [0, 0.9, 0, 1],\n",
        "              [0, 0, 0.9, 0],\n",
        "              [0, 0, 0, 0.9]])\n",
        "B = np.block([[np.zeros((2, 2))], [np.eye(2)]])\n",
        "C = np.block([[np.eye(2), np.zeros((2, 2))]])\n",
        "G = np.random.rand(4, 2)\n",
        "n, m, K = A.shape[0], B.shape[1], C.shape[0]\n",
        "P = np.eye(m)\n",
        "R = np.eye(K)\n",
        "Q = np.eye(n)\n",
        "w = [np.random.multivariate_normal(mean=np.zeros(m), cov=P) for _ in range(T)]\n",
        "v = [np.random.multivariate_normal(mean=np.zeros(K), cov=R) for _ in range(T)]\n",
        "x = [np.random.multivariate_normal(mean=np.zeros(n), cov=Q)]\n",
        "\n",
        "A_sin = 1    # Amplitude of the sinusoid\n",
        "f_sin = 0.2  # Frequency of the sinusoid\n",
        "phi_sin = 0  # Phase shift of the sinusoid     # Total number of time steps\n",
        "m = 2        # Dimension of the multivariate Gaussian noise\n",
        "\n",
        "sinusoidal_input = A_sin * np.sin(2 * np.pi * f_sin * np.arange(T) + phi_sin)\n",
        "P = np.eye(m)\n",
        "gaussian_noise = np.random.multivariate_normal(mean=np.zeros(m), cov=P, size=T)\n",
        "sinusoidal_input = sinusoidal_input.reshape(T, 1)\n",
        "u = np.hstack((sinusoidal_input, gaussian_noise[:, 0:1]))\n",
        "\n",
        "# Reshape u to ensure each u_t is (2, 1) at each time step\n",
        "u = u.reshape(T, 2, 1)\n",
        "\n",
        "# Initialize the state list with the initial condition\n",
        "x = [np.random.multivariate_normal(mean=np.zeros(n), cov=Q)]\n",
        "\n",
        "# Calculate x for each timestep up to T\n",
        "for t in range(1, T + 1):\n",
        "    # print(f'Calculating state at time {t}')  # Debug print\n",
        "    calculate_x_next(t, x, w, A, B, G, u)\n",
        "\n",
        "# Convert the list of states to a numpy array for easier handling\n",
        "x_array = np.array(x)\n",
        "y = [C @ x_array[t] + v[t] for t in range(T)]\n",
        "y1 = np.concatenate(y)\n",
        "\n",
        "rcond=-1\n",
        "# type(y1)\n",
        "y=np.array(y1)\n",
        "# type(y)\n",
        "y_train, y_test = train_test_split(y1, test_size=0.2, random_state=42)\n",
        "rms_errors = []\n",
        "for lam in lambda_values:\n",
        "    # Apply LQE to estimate states based on training data\n",
        "    x_hat = lqe(A, B, C,G, y_train, T, lam, rcond=-1)\n",
        "\n",
        "    # Simulate reconstruction of missing observations (actual implementation depends on LQE output)\n",
        "    y_reconstructed = C @ x_hat[-20:]  # Assuming x_hat is structured correctly\n",
        "\n",
        "    # Calculate RMS error for the reconstructed observations\n",
        "    rms_error = np.sqrt(np.mean((y_test - y_reconstructed.flatten())**2))\n",
        "    rms_errors.append(rms_error)\n",
        "\n",
        "# Plot RMS error vs. lambda\n",
        "plt.semilogx(lambda_values, rms_errors, marker='o', label='Test RMS Error')\n",
        "plt.xlabel('Lambda')\n",
        "plt.ylabel('RMS Error')\n",
        "plt.title('RMS Error vs. Lambda')\n",
        "plt.grid(True)\n",
        "plt.show()\n"
      ]
    },
    {
      "cell_type": "code",
      "source": [],
      "metadata": {
        "id": "iMQ3UiDLHb77"
      },
      "execution_count": null,
      "outputs": []
    },
    {
      "cell_type": "code",
      "source": [
        "k = 5  # Example: using 5-fold cross-validation\n",
        "kf = KFold(n_splits=k, shuffle=True, random_state=42)\n",
        "train_rms_errors = np.zeros((len(lambda_values), k))\n",
        "test_rms_errors = np.zeros((len(lambda_values), k))\n",
        "\n",
        "\n",
        "fold = 0\n",
        "for train_index, test_index in kf.split(y):\n",
        "    y_train, y_test = y[train_index], y[test_index]\n",
        "\n",
        "    for i, lam in enumerate(lambda_values):\n",
        "\n",
        "        # Apply LQE to estimate states based on training data\n",
        "        x_hat = lqe(A, B, C,G,y_train, T, lam, rcond=-1)\n",
        "\n",
        "        y_reconstructed = np.array([C @ x_t for x_t in x_hat]).flatten()\n",
        "\n",
        "        total_length = len(y_train) + len(y_test)\n",
        "        reconstructed_length = len(y_reconstructed)\n",
        "\n",
        "# Ensure y_reconstructed matches the combined length of y_train and y_test\n",
        "        if reconstructed_length != total_length:\n",
        "            pass\n",
        "\n",
        "# Calculate the split index for 80% of the combined y_train and y_test length\n",
        "        split_index = int(0.8 * total_length)\n",
        "\n",
        "# Split y_reconstructed into 80% for \"training\" and 20% for \"testing\"\n",
        "        y_reconstructed_train = y_reconstructed[:split_index]\n",
        "        y_reconstructed_test = y_reconstructed[split_index:]\n",
        "\n",
        "        # Calculate RMS errors\n",
        "        train_rms_error = np.sqrt(np.mean((y_train - y_reconstructed_train)**2))\n",
        "        test_rms_error = np.sqrt(np.mean((y_test - y_reconstructed_test)**2))\n",
        "\n",
        "        # Append RMS errors to their respective lists for the current fold\n",
        "        train_rms_errors[i, fold] = train_rms_error\n",
        "        test_rms_errors[i, fold] = test_rms_error\n",
        "\n",
        "    fold += 1\n",
        "\n",
        "# Calculate the average RMS error across all folds for each lambda\n",
        "avg_train_rms_errors = np.mean(train_rms_errors, axis=1)\n",
        "avg_test_rms_errors = np.mean(test_rms_errors, axis=1)\n",
        "\n",
        "# Plotting the average RMS error vs. lambda for both training and testing datasets\n",
        "plt.figure(figsize=(10, 6))\n",
        "plt.semilogx(lambda_values, avg_train_rms_errors, marker='o', label='Avg Train RMS Error')\n",
        "plt.semilogx(lambda_values, avg_test_rms_errors, marker='x', label='Avg Test RMS Error')\n",
        "plt.xlabel('Lambda')\n",
        "plt.ylabel('RMS Error')\n",
        "plt.title('Average RMS Error vs. Lambda for Training and Testing Datasets across {}-Folds'.format(k))\n",
        "plt.legend()\n",
        "plt.grid(True)\n",
        "plt.show()\n"
      ],
      "metadata": {
        "colab": {
          "base_uri": "https://localhost:8080/",
          "height": 694
        },
        "outputId": "449710a2-9515-4ba8-c613-d09ad0576673",
        "id": "BlP8ExpgIlzm"
      },
      "execution_count": null,
      "outputs": [
        {
          "output_type": "execute_result",
          "data": {
            "text/plain": [
              "<Figure size 1000x600 with 0 Axes>"
            ]
          },
          "metadata": {},
          "execution_count": 17
        },
        {
          "output_type": "execute_result",
          "data": {
            "text/plain": [
              "[<matplotlib.lines.Line2D at 0x7fc26db9c430>]"
            ]
          },
          "metadata": {},
          "execution_count": 17
        },
        {
          "output_type": "execute_result",
          "data": {
            "text/plain": [
              "[<matplotlib.lines.Line2D at 0x7fc26dedba30>]"
            ]
          },
          "metadata": {},
          "execution_count": 17
        },
        {
          "output_type": "execute_result",
          "data": {
            "text/plain": [
              "Text(0.5, 0, 'Lambda')"
            ]
          },
          "metadata": {},
          "execution_count": 17
        },
        {
          "output_type": "execute_result",
          "data": {
            "text/plain": [
              "Text(0, 0.5, 'RMS Error')"
            ]
          },
          "metadata": {},
          "execution_count": 17
        },
        {
          "output_type": "execute_result",
          "data": {
            "text/plain": [
              "Text(0.5, 1.0, 'Average RMS Error vs. Lambda for Training and Testing Datasets across 5-Folds')"
            ]
          },
          "metadata": {},
          "execution_count": 17
        },
        {
          "output_type": "execute_result",
          "data": {
            "text/plain": [
              "<matplotlib.legend.Legend at 0x7fc26deda7d0>"
            ]
          },
          "metadata": {},
          "execution_count": 17
        },
        {
          "output_type": "display_data",
          "data": {
            "text/plain": [
              "<Figure size 1000x600 with 1 Axes>"
            ],
            "image/png": "[encoded data removed]"
          },
          "metadata": {}
        }
      ]
    }
  ]
}