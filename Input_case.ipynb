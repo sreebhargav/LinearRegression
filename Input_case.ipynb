{
  "nbformat": 4,
  "nbformat_minor": 0,
  "metadata": {
    "colab": {
      "provenance": []
    },
    "kernelspec": {
      "name": "python3",
      "display_name": "Python 3"
    },
    "language_info": {
      "name": "python"
    }
  },
  "cells": [
    {
      "cell_type": "code",
      "execution_count": null,
      "metadata": {
        "id": "Ens0T-TuorIT",
        "colab": {
          "base_uri": "https://localhost:8080/",
          "height": 1000
        },
        "outputId": "e7d42d4c-323c-4f01-af66-5e80ccb32732"
      },
      "outputs": [
        {
          "output_type": "execute_result",
          "data": {
            "text/plain": [
              "array([[ 0.42984432],\n",
              "       [-0.14698197],\n",
              "       [ 0.54994662],\n",
              "       [-1.1000853 ]])"
            ]
          },
          "metadata": {},
          "execution_count": 8
        },
        {
          "output_type": "execute_result",
          "data": {
            "text/plain": [
              "array([[ 1.03274035],\n",
              "       [-0.71483065],\n",
              "       [ 1.21083785],\n",
              "       [-0.58292017]])"
            ]
          },
          "metadata": {},
          "execution_count": 8
        },
        {
          "output_type": "execute_result",
          "data": {
            "text/plain": [
              "array([[ 2.27630274],\n",
              "       [-0.9688105 ],\n",
              "       [ 1.3596848 ],\n",
              "       [-0.41087107]])"
            ]
          },
          "metadata": {},
          "execution_count": 8
        },
        {
          "output_type": "execute_result",
          "data": {
            "text/plain": [
              "array([[ 3.603263  ],\n",
              "       [-1.70862189],\n",
              "       [ 1.34813232],\n",
              "       [-0.58097421]])"
            ]
          },
          "metadata": {},
          "execution_count": 8
        },
        {
          "output_type": "execute_result",
          "data": {
            "text/plain": [
              "array([[ 4.89844591],\n",
              "       [-2.82183272],\n",
              "       [ 1.12361867],\n",
              "       [-0.97875873]])"
            ]
          },
          "metadata": {},
          "execution_count": 8
        },
        {
          "output_type": "execute_result",
          "data": {
            "text/plain": [
              "array([[ 6.02206458],\n",
              "       [-3.80059145],\n",
              "       [ 1.27047393],\n",
              "       [-1.25576986]])"
            ]
          },
          "metadata": {},
          "execution_count": 8
        },
        {
          "output_type": "execute_result",
          "data": {
            "text/plain": [
              "array([[ 7.34548792],\n",
              "       [-4.52412469],\n",
              "       [ 1.42384757],\n",
              "       [-0.61188002]])"
            ]
          },
          "metadata": {},
          "execution_count": 8
        },
        {
          "output_type": "execute_result",
          "data": {
            "text/plain": [
              "array([[ 8.80206003],\n",
              "       [-4.80706438],\n",
              "       [ 1.53467988],\n",
              "       [ 0.05988303]])"
            ]
          },
          "metadata": {},
          "execution_count": 8
        },
        {
          "output_type": "execute_result",
          "data": {
            "text/plain": [
              "array([[10.30401538],\n",
              "       [-5.07612167],\n",
              "       [ 1.33844086],\n",
              "       [-0.15471078]])"
            ]
          },
          "metadata": {},
          "execution_count": 8
        },
        {
          "output_type": "execute_result",
          "data": {
            "text/plain": [
              "array([[11.58950682],\n",
              "       [-5.76306908],\n",
              "       [ 0.97127122],\n",
              "       [-0.65758393]])"
            ]
          },
          "metadata": {},
          "execution_count": 8
        },
        {
          "output_type": "execute_result",
          "data": {
            "text/plain": [
              "array([[12.56077804],\n",
              "       [-6.420653  ],\n",
              "       [ 0.77710665],\n",
              "       [-0.93913763]])"
            ]
          },
          "metadata": {},
          "execution_count": 8
        },
        {
          "output_type": "execute_result",
          "data": {
            "text/plain": [
              "array([[13.3908341 ],\n",
              "       [-6.82755401],\n",
              "       [ 0.78338935],\n",
              "       [-0.35438248]])"
            ]
          },
          "metadata": {},
          "execution_count": 8
        },
        {
          "output_type": "execute_result",
          "data": {
            "text/plain": [
              "array([[14.20694798],\n",
              "       [-6.85299617],\n",
              "       [ 0.66059443],\n",
              "       [-0.07168163]])"
            ]
          },
          "metadata": {},
          "execution_count": 8
        },
        {
          "output_type": "execute_result",
          "data": {
            "text/plain": [
              "array([[14.83481787],\n",
              "       [-7.25361813],\n",
              "       [ 0.85899698],\n",
              "       [-0.55637414]])"
            ]
          },
          "metadata": {},
          "execution_count": 8
        },
        {
          "output_type": "execute_result",
          "data": {
            "text/plain": [
              "array([[15.64086544],\n",
              "       [-8.34222889],\n",
              "       [ 0.63651575],\n",
              "       [-0.81648957]])"
            ]
          },
          "metadata": {},
          "execution_count": 8
        },
        {
          "output_type": "execute_result",
          "data": {
            "text/plain": [
              "array([[16.27738119],\n",
              "       [-9.15871846],\n",
              "       [ 0.799368  ],\n",
              "       [-0.7554959 ]])"
            ]
          },
          "metadata": {},
          "execution_count": 8
        },
        {
          "output_type": "execute_result",
          "data": {
            "text/plain": [
              "array([[17.1296986 ],\n",
              "       [-9.38197774],\n",
              "       [ 1.25300286],\n",
              "       [ 0.1517978 ]])"
            ]
          },
          "metadata": {},
          "execution_count": 8
        },
        {
          "output_type": "execute_result",
          "data": {
            "text/plain": [
              "array([[18.415426  ],\n",
              "       [-8.90123962],\n",
              "       [ 1.1360041 ],\n",
              "       [ 0.69376257]])"
            ]
          },
          "metadata": {},
          "execution_count": 8
        },
        {
          "output_type": "execute_result",
          "data": {
            "text/plain": [
              "array([[19.51870556],\n",
              "       [-8.53641738],\n",
              "       [ 1.19606998],\n",
              "       [ 0.08043009]])"
            ]
          },
          "metadata": {},
          "execution_count": 8
        },
        {
          "output_type": "execute_result",
          "data": {
            "text/plain": [
              "array([[20.66182614],\n",
              "       [-8.9882239 ],\n",
              "       [ 0.68069736],\n",
              "       [-0.7646143 ]])"
            ]
          },
          "metadata": {},
          "execution_count": 8
        },
        {
          "output_type": "execute_result",
          "data": {
            "text/plain": [
              "array([[21.34252349],\n",
              "       [-9.75283821],\n",
              "       [ 0.34694767],\n",
              "       [-0.51972858]])"
            ]
          },
          "metadata": {},
          "execution_count": 8
        },
        {
          "output_type": "execute_result",
          "data": {
            "text/plain": [
              "array([[21.74242057],\n",
              "       [-9.74033017],\n",
              "       [ 0.40747425],\n",
              "       [-0.06271095]])"
            ]
          },
          "metadata": {},
          "execution_count": 8
        },
        {
          "output_type": "execute_result",
          "data": {
            "text/plain": [
              "array([[22.18261936],\n",
              "       [-9.4741008 ],\n",
              "       [ 0.59152613],\n",
              "       [ 0.08756735]])"
            ]
          },
          "metadata": {},
          "execution_count": 8
        },
        {
          "output_type": "execute_result",
          "data": {
            "text/plain": [
              "array([[22.74142096],\n",
              "       [-9.71547376],\n",
              "       [ 0.46636714],\n",
              "       [-0.52184116]])"
            ]
          },
          "metadata": {},
          "execution_count": 8
        },
        {
          "output_type": "execute_result",
          "data": {
            "text/plain": [
              "array([[ 23.15483868],\n",
              "       [-10.76955154],\n",
              "       [  0.31693742],\n",
              "       [ -0.96453736]])"
            ]
          },
          "metadata": {},
          "execution_count": 8
        },
        {
          "output_type": "execute_result",
          "data": {
            "text/plain": [
              "array([[ 23.4717761 ],\n",
              "       [-11.7340889 ],\n",
              "       [  0.39540841],\n",
              "       [ -0.85504804]])"
            ]
          },
          "metadata": {},
          "execution_count": 8
        },
        {
          "output_type": "execute_result",
          "data": {
            "text/plain": [
              "array([[ 23.92013392],\n",
              "       [-12.05690032],\n",
              "       [  0.80422206],\n",
              "       [  0.10734389]])"
            ]
          },
          "metadata": {},
          "execution_count": 8
        },
        {
          "output_type": "execute_result",
          "data": {
            "text/plain": [
              "array([[ 24.75708051],\n",
              "       [-11.62061611],\n",
              "       [  0.67909191],\n",
              "       [  0.51620438]])"
            ]
          },
          "metadata": {},
          "execution_count": 8
        },
        {
          "output_type": "execute_result",
          "data": {
            "text/plain": [
              "array([[ 25.40344788],\n",
              "       [-11.43335205],\n",
              "       [  0.30796221],\n",
              "       [  0.19644921]])"
            ]
          },
          "metadata": {},
          "execution_count": 8
        },
        {
          "output_type": "execute_result",
          "data": {
            "text/plain": [
              "array([[ 25.65846069],\n",
              "       [-11.76913946],\n",
              "       [ -0.15706918],\n",
              "       [ -0.77135453]])"
            ]
          },
          "metadata": {},
          "execution_count": 8
        },
        {
          "output_type": "execute_result",
          "data": {
            "text/plain": [
              "array([[ 25.5013915 ],\n",
              "       [-12.54049399],\n",
              "       [ -0.52797748],\n",
              "       [ -0.96998912]])"
            ]
          },
          "metadata": {},
          "execution_count": 8
        },
        {
          "output_type": "execute_result",
          "data": {
            "text/plain": [
              "array([[ 25.02636343],\n",
              "       [-12.97824649],\n",
              "       [ -0.54556464],\n",
              "       [ -0.52114499]])"
            ]
          },
          "metadata": {},
          "execution_count": 8
        },
        {
          "output_type": "execute_result",
          "data": {
            "text/plain": [
              "array([[ 24.51352332],\n",
              "       [-13.17045115],\n",
              "       [ -0.54964412],\n",
              "       [ -0.05510201]])"
            ]
          },
          "metadata": {},
          "execution_count": 8
        },
        {
          "output_type": "execute_result",
          "data": {
            "text/plain": [
              "array([[ 23.93115467],\n",
              "       [-13.55449348],\n",
              "       [ -0.80222415],\n",
              "       [ -0.16599725]])"
            ]
          },
          "metadata": {},
          "execution_count": 8
        },
        {
          "output_type": "execute_result",
          "data": {
            "text/plain": [
              "array([[ 23.07598111],\n",
              "       [-14.25272735],\n",
              "       [ -0.8229057 ],\n",
              "       [ -0.89018306]])"
            ]
          },
          "metadata": {},
          "execution_count": 8
        },
        {
          "output_type": "execute_result",
          "data": {
            "text/plain": [
              "array([[ 22.25307541],\n",
              "       [-15.14291041],\n",
              "       [ -0.83264269],\n",
              "       [ -1.20601597]])"
            ]
          },
          "metadata": {},
          "execution_count": 8
        },
        {
          "output_type": "execute_result",
          "data": {
            "text/plain": [
              "array([[ 21.47338213],\n",
              "       [-15.81668976],\n",
              "       [ -0.70901076],\n",
              "       [ -0.20627913]])"
            ]
          },
          "metadata": {},
          "execution_count": 8
        },
        {
          "output_type": "execute_result",
          "data": {
            "text/plain": [
              "array([[ 20.7970959 ],\n",
              "       [-15.69402857],\n",
              "       [ -0.56935247],\n",
              "       [  0.23177633]])"
            ]
          },
          "metadata": {},
          "execution_count": 8
        },
        {
          "output_type": "execute_result",
          "data": {
            "text/plain": [
              "array([[ 20.1950189 ],\n",
              "       [-15.79119256],\n",
              "       [ -0.69739127],\n",
              "       [  0.15532845]])"
            ]
          },
          "metadata": {},
          "execution_count": 8
        },
        {
          "output_type": "execute_result",
          "data": {
            "text/plain": [
              "array([[ 19.44467822],\n",
              "       [-16.16810074],\n",
              "       [ -0.86243519],\n",
              "       [ -0.78577292]])"
            ]
          },
          "metadata": {},
          "execution_count": 8
        },
        {
          "output_type": "execute_result",
          "data": {
            "text/plain": [
              "array([[ 18.58224303],\n",
              "       [-16.95387365],\n",
              "       [ -1.3733175 ],\n",
              "       [ -0.39954736]])"
            ]
          },
          "metadata": {},
          "execution_count": 8
        },
        {
          "output_type": "execute_result",
          "data": {
            "text/plain": [
              "array([[ 17.26187495],\n",
              "       [-16.82118439],\n",
              "       [ -0.9145309 ],\n",
              "       [ -0.05535822]])"
            ]
          },
          "metadata": {},
          "execution_count": 8
        },
        {
          "output_type": "execute_result",
          "data": {
            "text/plain": [
              "array([[ 16.38006858],\n",
              "       [-16.5476023 ],\n",
              "       [ -1.03529933],\n",
              "       [  0.14328856]])"
            ]
          },
          "metadata": {},
          "execution_count": 8
        },
        {
          "output_type": "execute_result",
          "data": {
            "text/plain": [
              "array([[ 15.31204472],\n",
              "       [-16.73325406],\n",
              "       [ -1.15083613],\n",
              "       [ -0.35395295]])"
            ]
          },
          "metadata": {},
          "execution_count": 8
        },
        {
          "output_type": "execute_result",
          "data": {
            "text/plain": [
              "array([[ 14.10825918],\n",
              "       [-17.61944363],\n",
              "       [ -1.09079566],\n",
              "       [ -1.29395504]])"
            ]
          },
          "metadata": {},
          "execution_count": 8
        },
        {
          "output_type": "execute_result",
          "data": {
            "text/plain": [
              "array([[ 13.01746351],\n",
              "       [-18.91339867],\n",
              "       [ -1.32276837],\n",
              "       [ -1.09080653]])"
            ]
          },
          "metadata": {},
          "execution_count": 8
        },
        {
          "output_type": "execute_result",
          "data": {
            "text/plain": [
              "array([[ 11.74764456],\n",
              "       [-19.47196858],\n",
              "       [ -1.20620415],\n",
              "       [ -0.51021478]])"
            ]
          },
          "metadata": {},
          "execution_count": 8
        },
        {
          "output_type": "execute_result",
          "data": {
            "text/plain": [
              "array([[ 10.57416494],\n",
              "       [-19.65324304],\n",
              "       [ -0.94266601],\n",
              "       [ -0.07433449]])"
            ]
          },
          "metadata": {},
          "execution_count": 8
        },
        {
          "output_type": "execute_result",
          "data": {
            "text/plain": [
              "array([[  9.59877439],\n",
              "       [-20.05651785],\n",
              "       [ -1.15355107],\n",
              "       [ -0.56115203]])"
            ]
          },
          "metadata": {},
          "execution_count": 8
        },
        {
          "output_type": "execute_result",
          "data": {
            "text/plain": [
              "array([[  8.39227391],\n",
              "       [-21.1499065 ],\n",
              "       [ -1.60227361],\n",
              "       [ -0.97092734]])"
            ]
          },
          "metadata": {},
          "execution_count": 8
        },
        {
          "output_type": "execute_result",
          "data": {
            "text/plain": [
              "array([[  6.7900003 ],\n",
              "       [-22.12083384],\n",
              "       [ -1.49269486],\n",
              "       [ -0.85280573]])"
            ]
          },
          "metadata": {},
          "execution_count": 8
        },
        {
          "output_type": "execute_result",
          "data": {
            "text/plain": [
              "array([[  5.35025485],\n",
              "       [-22.44140295],\n",
              "       [ -1.01211904],\n",
              "       [ -0.56086253]])"
            ]
          },
          "metadata": {},
          "execution_count": 8
        },
        {
          "output_type": "execute_result",
          "data": {
            "text/plain": [
              "array([[  4.37086035],\n",
              "       [-22.67332516],\n",
              "       [ -1.18976698],\n",
              "       [ -0.26511276]])"
            ]
          },
          "metadata": {},
          "execution_count": 8
        },
        {
          "output_type": "execute_result",
          "data": {
            "text/plain": [
              "array([[  3.14836883],\n",
              "       [-23.26737825],\n",
              "       [ -1.56498437],\n",
              "       [ -0.56087486]])"
            ]
          },
          "metadata": {},
          "execution_count": 8
        },
        {
          "output_type": "execute_result",
          "data": {
            "text/plain": [
              "array([[  1.53043505],\n",
              "       [-24.36048972],\n",
              "       [ -1.82455343],\n",
              "       [ -1.26030127]])"
            ]
          },
          "metadata": {},
          "execution_count": 8
        },
        {
          "output_type": "execute_result",
          "data": {
            "text/plain": [
              "array([[ -0.29411838],\n",
              "       [-25.62079099],\n",
              "       [ -2.14497425],\n",
              "       [ -1.27131542]])"
            ]
          },
          "metadata": {},
          "execution_count": 8
        },
        {
          "output_type": "execute_result",
          "data": {
            "text/plain": [
              "array([[ -2.38614322],\n",
              "       [-26.35986979],\n",
              "       [ -1.53357131],\n",
              "       [ -0.5398283 ]])"
            ]
          },
          "metadata": {},
          "execution_count": 8
        },
        {
          "output_type": "execute_result",
          "data": {
            "text/plain": [
              "array([[ -3.88698999],\n",
              "       [-26.57075777],\n",
              "       [ -1.52475355],\n",
              "       [ -0.24151942]])"
            ]
          },
          "metadata": {},
          "execution_count": 8
        },
        {
          "output_type": "execute_result",
          "data": {
            "text/plain": [
              "array([[ -5.44446808],\n",
              "       [-27.14121752],\n",
              "       [ -1.59688267],\n",
              "       [ -0.58813125]])"
            ]
          },
          "metadata": {},
          "execution_count": 8
        },
        {
          "output_type": "execute_result",
          "data": {
            "text/plain": [
              "array([[ -7.09430016],\n",
              "       [-28.26158538],\n",
              "       [ -1.50396125],\n",
              "       [ -1.29952137]])"
            ]
          },
          "metadata": {},
          "execution_count": 8
        },
        {
          "output_type": "execute_result",
          "data": {
            "text/plain": [
              "array([[ -8.59826141],\n",
              "       [-29.56110676],\n",
              "       [ -1.12119189],\n",
              "       [ -1.24315319]])"
            ]
          },
          "metadata": {},
          "execution_count": 8
        },
        {
          "output_type": "execute_result",
          "data": {
            "text/plain": [
              "array([[ -9.66650389],\n",
              "       [-30.27202333],\n",
              "       [ -0.79980389],\n",
              "       [ -0.80336161]])"
            ]
          },
          "metadata": {},
          "execution_count": 8
        },
        {
          "output_type": "execute_result",
          "data": {
            "text/plain": [
              "array([[-10.43358324],\n",
              "       [-30.74644461],\n",
              "       [ -0.65427227],\n",
              "       [ -0.78750579]])"
            ]
          },
          "metadata": {},
          "execution_count": 8
        },
        {
          "output_type": "execute_result",
          "data": {
            "text/plain": [
              "array([[-11.12058005],\n",
              "       [-31.86289073],\n",
              "       [ -0.53838997],\n",
              "       [ -1.56167038]])"
            ]
          },
          "metadata": {},
          "execution_count": 8
        },
        {
          "output_type": "execute_result",
          "data": {
            "text/plain": [
              "array([[-11.71191943],\n",
              "       [-33.95679773],\n",
              "       [ -0.83081675],\n",
              "       [ -1.7299489 ]])"
            ]
          },
          "metadata": {},
          "execution_count": 8
        },
        {
          "output_type": "execute_result",
          "data": {
            "text/plain": [
              "array([[-12.54273617],\n",
              "       [-35.68674662],\n",
              "       [ -0.48882325],\n",
              "       [ -1.62861407]])"
            ]
          },
          "metadata": {},
          "execution_count": 8
        },
        {
          "output_type": "execute_result",
          "data": {
            "text/plain": [
              "array([[-1.29786100e+01],\n",
              "       [-3.67831241e+01],\n",
              "       [-2.92054127e-02],\n",
              "       [-7.51125014e-01]])"
            ]
          },
          "metadata": {},
          "execution_count": 8
        },
        {
          "output_type": "execute_result",
          "data": {
            "text/plain": [
              "array([[-12.97509089],\n",
              "       [-37.20530876],\n",
              "       [  0.36862978],\n",
              "       [ -0.66208785]])"
            ]
          },
          "metadata": {},
          "execution_count": 8
        },
        {
          "output_type": "execute_result",
          "data": {
            "text/plain": [
              "array([[-12.63918565],\n",
              "       [-38.19633693],\n",
              "       [  0.91094802],\n",
              "       [ -0.92626593]])"
            ]
          },
          "metadata": {},
          "execution_count": 8
        },
        {
          "output_type": "execute_result",
          "data": {
            "text/plain": [
              "array([[-11.78118704],\n",
              "       [-39.65483949],\n",
              "       [  0.96689489],\n",
              "       [ -1.73546368]])"
            ]
          },
          "metadata": {},
          "execution_count": 8
        },
        {
          "output_type": "execute_result",
          "data": {
            "text/plain": [
              "array([[-10.81429215],\n",
              "       [-41.39030317],\n",
              "       [  1.22901501],\n",
              "       [ -1.8257336 ]])"
            ]
          },
          "metadata": {},
          "execution_count": 8
        },
        {
          "output_type": "execute_result",
          "data": {
            "text/plain": [
              "array([[ -9.53232773],\n",
              "       [-42.68380015],\n",
              "       [  1.0106355 ],\n",
              "       [ -1.35918466]])"
            ]
          },
          "metadata": {},
          "execution_count": 8
        },
        {
          "output_type": "execute_result",
          "data": {
            "text/plain": [
              "array([[ -8.4889677 ],\n",
              "       [-43.71404449],\n",
              "       [  1.28202632],\n",
              "       [ -0.93814967]])"
            ]
          },
          "metadata": {},
          "execution_count": 8
        },
        {
          "output_type": "execute_result",
          "data": {
            "text/plain": [
              "array([[ -7.23966592],\n",
              "       [-44.98113449],\n",
              "       [  0.91981204],\n",
              "       [ -1.24910872]])"
            ]
          },
          "metadata": {},
          "execution_count": 8
        },
        {
          "output_type": "execute_result",
          "data": {
            "text/plain": [
              "array([[ -6.37280329],\n",
              "       [-46.76247983],\n",
              "       [  0.87351924],\n",
              "       [ -1.87873169]])"
            ]
          },
          "metadata": {},
          "execution_count": 8
        },
        {
          "output_type": "execute_result",
          "data": {
            "text/plain": [
              "array([[ -5.49928405],\n",
              "       [-48.64121152],\n",
              "       [  0.94221795],\n",
              "       [ -1.38068919]])"
            ]
          },
          "metadata": {},
          "execution_count": 8
        },
        {
          "output_type": "execute_result",
          "data": {
            "text/plain": [
              "array([[ -4.50411669],\n",
              "       [-49.48966409],\n",
              "       [  1.06883252],\n",
              "       [ -0.70044843]])"
            ]
          },
          "metadata": {},
          "execution_count": 8
        },
        {
          "output_type": "execute_result",
          "data": {
            "text/plain": [
              "array([[ -3.40255964],\n",
              "       [-49.86117221],\n",
              "       [  1.07543581],\n",
              "       [ -0.05201415]])"
            ]
          },
          "metadata": {},
          "execution_count": 8
        },
        {
          "output_type": "execute_result",
          "data": {
            "text/plain": [
              "array([[ -2.35984836],\n",
              "       [-50.24212668],\n",
              "       [  0.94460292],\n",
              "       [ -0.29382274]])"
            ]
          },
          "metadata": {},
          "execution_count": 8
        },
        {
          "output_type": "execute_result",
          "data": {
            "text/plain": [
              "array([[ -1.46819485],\n",
              "       [-51.06818604],\n",
              "       [  0.75322918],\n",
              "       [ -0.87297256]])"
            ]
          },
          "metadata": {},
          "execution_count": 8
        },
        {
          "output_type": "execute_result",
          "data": {
            "text/plain": [
              "array([[ -0.71496567],\n",
              "       [-51.94115859],\n",
              "       [  0.61414032],\n",
              "       [ -0.91069268]])"
            ]
          },
          "metadata": {},
          "execution_count": 8
        },
        {
          "output_type": "execute_result",
          "data": {
            "text/plain": [
              "array([[-4.78759423e-02],\n",
              "       [-5.23196146e+01],\n",
              "       [ 4.94239469e-01],\n",
              "       [-6.89045390e-01]])"
            ]
          },
          "metadata": {},
          "execution_count": 8
        },
        {
          "output_type": "execute_result",
          "data": {
            "text/plain": [
              "array([[ 4.79088063e-01],\n",
              "       [-5.26797197e+01],\n",
              "       [ 3.67869810e-01],\n",
              "       [ 8.59673848e-03]])"
            ]
          },
          "metadata": {},
          "execution_count": 8
        },
        {
          "output_type": "execute_result",
          "data": {
            "text/plain": [
              "array([[ 8.14233337e-01],\n",
              "       [-5.30000633e+01],\n",
              "       [ 2.58305947e-01],\n",
              "       [ 2.50151461e-02]])"
            ]
          },
          "metadata": {},
          "execution_count": 8
        },
        {
          "output_type": "execute_result",
          "data": {
            "text/plain": [
              "array([[ 1.01958987e+00],\n",
              "       [-5.35072848e+01],\n",
              "       [ 2.29180866e-02],\n",
              "       [-6.72888633e-01]])"
            ]
          },
          "metadata": {},
          "execution_count": 8
        },
        {
          "output_type": "execute_result",
          "data": {
            "text/plain": [
              "array([[  1.04250796],\n",
              "       [-54.18017341],\n",
              "       [ -0.18015676],\n",
              "       [ -0.52924917]])"
            ]
          },
          "metadata": {},
          "execution_count": 8
        },
        {
          "output_type": "execute_result",
          "data": {
            "text/plain": [
              "array([[  0.91530061],\n",
              "       [-54.17718596],\n",
              "       [  0.1234444 ],\n",
              "       [ -0.1182899 ]])"
            ]
          },
          "metadata": {},
          "execution_count": 8
        },
        {
          "output_type": "execute_result",
          "data": {
            "text/plain": [
              "array([[  1.07146954],\n",
              "       [-53.96653553],\n",
              "       [  0.23106901],\n",
              "       [  0.40802387]])"
            ]
          },
          "metadata": {},
          "execution_count": 8
        },
        {
          "output_type": "execute_result",
          "data": {
            "text/plain": [
              "array([[  1.26981402],\n",
              "       [-53.88745199],\n",
              "       [ -0.0931962 ],\n",
              "       [  0.1881117 ]])"
            ]
          },
          "metadata": {},
          "execution_count": 8
        },
        {
          "output_type": "execute_result",
          "data": {
            "text/plain": [
              "array([[  1.12366841],\n",
              "       [-54.23157691],\n",
              "       [ -0.16005839],\n",
              "       [ -0.51135928]])"
            ]
          },
          "metadata": {},
          "execution_count": 8
        },
        {
          "output_type": "execute_result",
          "data": {
            "text/plain": [
              "array([[  0.96361002],\n",
              "       [-54.74293619],\n",
              "       [  0.09282188],\n",
              "       [ -0.45434032]])"
            ]
          },
          "metadata": {},
          "execution_count": 8
        },
        {
          "output_type": "execute_result",
          "data": {
            "text/plain": [
              "array([[  1.1093813 ],\n",
              "       [-54.66503989],\n",
              "       [  0.35739165],\n",
              "       [ -0.24387974]])"
            ]
          },
          "metadata": {},
          "execution_count": 8
        },
        {
          "output_type": "execute_result",
          "data": {
            "text/plain": [
              "array([[  1.49949749],\n",
              "       [-54.57997931],\n",
              "       [  0.24327823],\n",
              "       [  0.45806031]])"
            ]
          },
          "metadata": {},
          "execution_count": 8
        },
        {
          "output_type": "execute_result",
          "data": {
            "text/plain": [
              "array([[ 1.71005119e+00],\n",
              "       [-5.44508593e+01],\n",
              "       [ 2.57523806e-01],\n",
              "       [ 4.34756084e-02]])"
            ]
          },
          "metadata": {},
          "execution_count": 8
        },
        {
          "output_type": "execute_result",
          "data": {
            "text/plain": [
              "array([[  1.91462559],\n",
              "       [-54.93962033],\n",
              "       [  0.23603728],\n",
              "       [ -0.5924524 ]])"
            ]
          },
          "metadata": {},
          "execution_count": 8
        },
        {
          "output_type": "execute_result",
          "data": {
            "text/plain": [
              "array([[  2.15066286],\n",
              "       [-55.53207272],\n",
              "       [  0.34758019],\n",
              "       [ -0.2054312 ]])"
            ]
          },
          "metadata": {},
          "execution_count": 8
        },
        {
          "output_type": "execute_result",
          "data": {
            "text/plain": [
              "array([[  2.55119246],\n",
              "       [-55.2052673 ],\n",
              "       [  0.35672038],\n",
              "       [  0.6702615 ]])"
            ]
          },
          "metadata": {},
          "execution_count": 8
        },
        {
          "output_type": "execute_result",
          "data": {
            "text/plain": [
              "array([[  2.94063738],\n",
              "       [-54.20606548],\n",
              "       [  0.19932142],\n",
              "       [  0.9751628 ]])"
            ]
          },
          "metadata": {},
          "execution_count": 8
        },
        {
          "output_type": "execute_result",
          "data": {
            "text/plain": [
              "array([[  3.10723426],\n",
              "       [-53.559843  ],\n",
              "       [  0.20383819],\n",
              "       [  0.75284208]])"
            ]
          },
          "metadata": {},
          "execution_count": 8
        },
        {
          "output_type": "execute_result",
          "data": {
            "text/plain": [
              "array([[  3.25812304],\n",
              "       [-53.33923754],\n",
              "       [  0.14530733],\n",
              "       [  0.416417  ]])"
            ]
          },
          "metadata": {},
          "execution_count": 8
        },
        {
          "output_type": "stream",
          "name": "stdout",
          "text": [
            "<class 'list'>\n",
            "101\n",
            "(101, 4)\n"
          ]
        },
        {
          "output_type": "execute_result",
          "data": {
            "text/plain": [
              "<Figure size 1000x700 with 0 Axes>"
            ]
          },
          "metadata": {},
          "execution_count": 8
        },
        {
          "output_type": "execute_result",
          "data": {
            "text/plain": [
              "[<matplotlib.lines.Line2D at 0x7ca7ef0c17e0>]"
            ]
          },
          "metadata": {},
          "execution_count": 8
        },
        {
          "output_type": "execute_result",
          "data": {
            "text/plain": [
              "<matplotlib.collections.PathCollection at 0x7ca7eeda5b40>"
            ]
          },
          "metadata": {},
          "execution_count": 8
        },
        {
          "output_type": "execute_result",
          "data": {
            "text/plain": [
              "Text(0.5, 0, '$(x_t)_1$')"
            ]
          },
          "metadata": {},
          "execution_count": 8
        },
        {
          "output_type": "execute_result",
          "data": {
            "text/plain": [
              "Text(0, 0.5, '$(x_t)_2$')"
            ]
          },
          "metadata": {},
          "execution_count": 8
        },
        {
          "output_type": "execute_result",
          "data": {
            "text/plain": [
              "Text(0.5, 1.0, 'State Vector Trajectory from $t=1$ to $t=100$')"
            ]
          },
          "metadata": {},
          "execution_count": 8
        },
        {
          "output_type": "execute_result",
          "data": {
            "text/plain": [
              "Text(-0.16226759848051855, 0.6526991851790765, '$t = 1$')"
            ]
          },
          "metadata": {},
          "execution_count": 8
        },
        {
          "output_type": "execute_result",
          "data": {
            "text/plain": [
              "Text(3.25812304255521, -53.33923754134851, '$t = 100$')"
            ]
          },
          "metadata": {},
          "execution_count": 8
        },
        {
          "output_type": "display_data",
          "data": {
            "text/plain": [
              "<Figure size 1000x700 with 1 Axes>"
            ],
            "image/png": "[encoded data removed]"
          },
          "metadata": {}
        },
        {
          "output_type": "execute_result",
          "data": {
            "text/plain": [
              "numpy.ndarray"
            ]
          },
          "metadata": {},
          "execution_count": 8
        },
        {
          "output_type": "execute_result",
          "data": {
            "text/plain": [
              "numpy.ndarray"
            ]
          },
          "metadata": {},
          "execution_count": 8
        },
        {
          "output_type": "stream",
          "name": "stdout",
          "text": [
            "(200,)\n",
            "(398, 598)\n",
            "(398, 598)\n",
            "(398, 598)\n",
            "(398, 598)\n",
            "(398, 598)\n",
            "(398, 598)\n",
            "(398, 598)\n",
            "(398, 598)\n",
            "(398, 598)\n",
            "(398, 598)\n",
            "(398, 598)\n",
            "(398, 598)\n",
            "(398, 598)\n",
            "(398, 598)\n",
            "(398, 598)\n",
            "(398, 598)\n",
            "(398, 598)\n",
            "(398, 598)\n",
            "(398, 598)\n",
            "(398, 598)\n"
          ]
        },
        {
          "output_type": "execute_result",
          "data": {
            "text/plain": [
              "[<matplotlib.lines.Line2D at 0x7ca7ef422140>]"
            ]
          },
          "metadata": {},
          "execution_count": 8
        },
        {
          "output_type": "execute_result",
          "data": {
            "text/plain": [
              "Text(0.5, 0, 'Lambda')"
            ]
          },
          "metadata": {},
          "execution_count": 8
        },
        {
          "output_type": "execute_result",
          "data": {
            "text/plain": [
              "Text(0, 0.5, 'RMS Error')"
            ]
          },
          "metadata": {},
          "execution_count": 8
        },
        {
          "output_type": "execute_result",
          "data": {
            "text/plain": [
              "Text(0.5, 1.0, 'RMS Error vs. Lambda')"
            ]
          },
          "metadata": {},
          "execution_count": 8
        },
        {
          "output_type": "display_data",
          "data": {
            "text/plain": [
              "<Figure size 640x480 with 1 Axes>"
            ],
            "image/png": "[encoded data removed]"
          },
          "metadata": {}
        }
      ],
      "source": [
        "import numpy as np\n",
        "from sklearn.model_selection import train_test_split\n",
        "from sklearn.metrics import mean_squared_error\n",
        "import matplotlib.pyplot as plt\n",
        "from sklearn.model_selection import KFold\n",
        "import numpy as np\n",
        "import numpy.linalg as npl\n",
        "import scipy.linalg as spl\n",
        "import sklearn.metrics as sklm\n",
        "import math\n",
        "import matplotlib.pyplot as plt\n",
        "import pandas as pd #for debugging\n",
        "\n",
        "from IPython.core.interactiveshell import InteractiveShell\n",
        "InteractiveShell.ast_node_interactivity = \"all\"\n",
        "def cls_solve(A,b,C,d):\n",
        "    m,n = np.shape(A)\n",
        "    p,n = np.shape(C)\n",
        "    Q,R = npl.qr(np.vstack([A,C]))\n",
        "    Q1 = Q[0:m,:]\n",
        "    # print(\"q1 shape is \",Q1.shape)\n",
        "    Q2 = Q[m:m+p,:]\n",
        "    Qtil, Rtil = npl.qr(Q2.T)\n",
        "    # print(\"qtil and Rtil\")\n",
        "    # print(Qtil.shape, Rtil.shape)\n",
        "    first = np.vstack((np.matmul(np.matmul(2*Qtil.T , Q1.T),b)))\n",
        "    # print(\"first shape\")\n",
        "    # print(first.shape)\n",
        "    denom = first - np.vstack((2*(npl.lstsq(Rtil.T, d, rcond=None)[0])))\n",
        "    k = npl.lstsq(Rtil, denom, rcond=None)[0]\n",
        "    return npl.lstsq(R, np.vstack(np.matmul(Q1.T, b)) - np.matmul(Q2.T , k)/2, rcond=None)[0]\n",
        "def lqe(A, B, C, y1, T, lam,rcond):\n",
        "    n = A.shape[0]\n",
        "    m = B.shape[1]\n",
        "    p = C.shape[0]\n",
        "    # shape1 = (T * p, m * (T - 1))\n",
        "    # print(shape1)\n",
        "    Atil = np.block([[np.kron(np.eye(T), C), np.zeros((shape1))], [np.zeros((m * (T - 1), T * n)), np.sqrt(lam) * np.eye(m * (T - 1))]])\n",
        "    print(Atil.shape)\n",
        "    y_flat = y1.T.flatten()\n",
        "    zeros_part = np.zeros(m * (119))\n",
        "    btil = np.concatenate((y_flat, zeros_part)).reshape(-1, 1)\n",
        "    # print(btil.shape)\n",
        "    Ctil = np.block([np.block([np.kron(np.eye(T - 1), A), np.zeros((n * (T - 1), n))]) + np.block([np.zeros((n * (T - 1), n)), -np.eye(n * (T - 1))]), np.kron(np.eye(T - 1), B)])\n",
        "    # print(Ctil.shape)\n",
        "    dtil = np.zeros(n * (T - 1))\n",
        "    # print(dtil.shape)\n",
        "    z = cls_solve(Atil, btil, Ctil, dtil)\n",
        "    # print(type(z))\n",
        "    x_hat = [z[i * n:(i + 1) * n] for i in range(T)]\n",
        "    v = [np.random.multivariate_normal(mean=np.zeros(p), cov=np.eye(p)) for _ in range(T)]\n",
        "    y_hat = [C @ x_t + v_t for x_t, v_t in zip(x_hat, v)]\n",
        "    return x_hat\n",
        "### ALL THE INPUT CASES###\n",
        "lambda_values = np.logspace(-4,6, num=20)\n",
        "def calculate_x_next(t, x, w, A, B, G, u):\n",
        "    # Ensure base case returns as a column vector\n",
        "    if t == 0:\n",
        "        x_t = np.array(x[t])\n",
        "        return x_t.reshape(-1, 1)\n",
        "\n",
        "    # Check if the state at time t has been already calculated\n",
        "    if len(x) > t:\n",
        "        x_t = np.array(x[t])\n",
        "        return x_t.reshape(-1, 1)\n",
        "\n",
        "    # Calculate the state at time t recursively\n",
        "    x_prev = calculate_x_next(t - 1, x, w, A, B, G, u)  # This will be (4, 1) after reshaping\n",
        "    w_t = np.array(w[t - 1]).reshape(-1, 1)  # Reshape for multiplication with B\n",
        "    u_t = np.array([u[t - 1]]) if t - 1 < len(u) else np.array([0])  # Get the correct control input\n",
        "    u_t = u_t.reshape(-1, 1)  # Reshape for multiplication with G\n",
        "\n",
        "    # Now perform the matrix multiplication\n",
        "    x_t = A @ x_prev + B @ w_t + G @ u_t\n",
        "\n",
        "    # Ensure the new state is a 1D array before appending\n",
        "    x.append(x_t.flatten())  # Store as 1D array for consistency\n",
        "\n",
        "    # Return the new state as a column vector\n",
        "    return x_t\n",
        "\n",
        "############## Input Cases#################\n",
        "T = 100\n",
        "A = np.block([[np.eye(2), np.eye(2)], [np.zeros((2, 2)), np.eye(2)]])\n",
        "B = np.block([[np.zeros((2, 2))], [np.eye(2)]])\n",
        "C = np.block([[np.eye(2), np.zeros((2, 2))]])\n",
        "G = np.random.rand(4, 1)\n",
        "n, m, K = A.shape[0], B.shape[1], C.shape[0]\n",
        "P = np.eye(m)\n",
        "R = np.eye(K)\n",
        "Q = np.eye(n)\n",
        "w = [np.random.multivariate_normal(mean=np.zeros(m), cov=P*0.05) for _ in range(T)]\n",
        "v = [np.random.multivariate_normal(mean=np.zeros(K), cov=R*0.05) for _ in range(T)]\n",
        "x = [np.random.multivariate_normal(mean=np.zeros(n), cov=Q)]\n",
        "\n",
        "# Sinusoidal input generation\n",
        "A_sin = 1  # Amplitude\n",
        "f_sin = 0.2  # Frequency\n",
        "phi_sin = 0  # Phase shift\n",
        "u = A_sin * np.sin(2 * np.pi * f_sin * np.arange(T) + phi_sin)\n",
        "\n",
        "# Initialize the state list with the initial condition\n",
        "x = [np.random.multivariate_normal(mean=np.zeros(n), cov=Q)]\n",
        "\n",
        "# Calculate x for each timestep up to T\n",
        "for t in range(1, T + 1):\n",
        "    # print(f'Calculating state at time {t}')  # Debug print\n",
        "    calculate_x_next(t, x, w, A, B, G, u)\n",
        "\n",
        "# Convert the list of states to a numpy array for easier handling\n",
        "x_array = np.array(x)\n",
        "\n",
        "# Print the final state array\n",
        "# print('Final state array:')\n",
        "# print(x_array)\n",
        "\n",
        "\n",
        "# Since the x list is populated during the recursion, you can access x[t] for any t<T directly\n",
        "# For example, to print x at the final timestep\n",
        "print(type(x))\n",
        "print(len(x))\n",
        "print(x_array.shape)\n",
        "plt.figure(figsize=(10, 7))\n",
        "plt.plot(x_array[:, 0], x_array[:, 1], 'ko-', markersize=5, linewidth=1)  # Plot trajectory\n",
        "plt.scatter(x_array[:, 0], x_array[:, 1], facecolors='none', edgecolors='g')  # Scatter plot of the points\n",
        "plt.xlabel('$(x_t)_1$')\n",
        "plt.ylabel('$(x_t)_2$')\n",
        "plt.title('State Vector Trajectory from $t=1$ to $t=100$')\n",
        "plt.text(x_array[0, 0], x_array[0, 1], '$t = 1$', fontsize=12)\n",
        "plt.text(x_array[-1, 0], x_array[-1, 1], '$t = 100$', fontsize=12)\n",
        "plt.grid(True)\n",
        "plt.show()\n",
        "\n",
        "\n",
        "y = [C @ x_array[t] + v[t] for t in range(T)]\n",
        "y1 = np.concatenate(y)\n",
        "T = 100\n",
        "rcond=-1\n",
        "type(y1)\n",
        "y=np.array(y1)\n",
        "type(y)\n",
        "print(y.shape)\n",
        "\n",
        "\n",
        "\n",
        "y_train, y_test = train_test_split(y1, test_size=0.2, random_state=42)\n",
        "rms_errors = []\n",
        "\n",
        "\n",
        "for lam in lambda_values:\n",
        "    # Apply LQE to estimate states based on training data\n",
        "    x_hat = lqe(A, B, C, y_train, T, lam, rcond=-1)\n",
        "\n",
        "    # Simulate reconstruction of missing observations (actual implementation depends on LQE output)\n",
        "    y_reconstructed = C @ x_hat[-20:]  # Assuming x_hat is structured correctly\n",
        "\n",
        "    # Calculate RMS error for the reconstructed observations\n",
        "    rms_error = np.sqrt(np.mean((y_test - y_reconstructed.flatten())**2))\n",
        "    rms_errors.append(rms_error)\n",
        "\n",
        "# Plot RMS error vs. lambda\n",
        "plt.semilogx(lambda_values, rms_errors, marker='o', label='Test RMS Error')\n",
        "plt.xlabel('Lambda')\n",
        "plt.ylabel('RMS Error')\n",
        "plt.title('RMS Error vs. Lambda')\n",
        "plt.grid(True)\n",
        "plt.show()\n",
        "\n"
      ]
    },
    {
      "cell_type": "code",
      "source": [
        "A = np.block([[np.eye(2), np.eye(2)], [np.zeros((2, 2)), np.eye(2)]])\n",
        "B = np.block([[np.zeros((2, 2))], [np.eye(2)]])\n",
        "C = np.block([[np.eye(2), np.zeros((2, 2))]])\n",
        "print(A.shape)\n",
        "print(B.shape)\n",
        "print(C.shape)"
      ],
      "metadata": {
        "colab": {
          "base_uri": "https://localhost:8080/"
        },
        "id": "bXAh2xcrjghf",
        "outputId": "231b8b30-c015-4f2f-b7df-4e78f2e97559"
      },
      "execution_count": null,
      "outputs": [
        {
          "output_type": "stream",
          "name": "stdout",
          "text": [
            "(4, 4)\n",
            "(4, 2)\n",
            "(2, 4)\n"
          ]
        }
      ]
    },
    {
      "cell_type": "code",
      "source": [
        "k = 5  # Example: using 5-fold cross-validation\n",
        "kf = KFold(n_splits=k, shuffle=True, random_state=42)\n",
        "train_rms_errors = np.zeros((len(lambda_values), k))\n",
        "test_rms_errors = np.zeros((len(lambda_values), k))\n",
        "\n",
        "\n",
        "fold = 0\n",
        "for train_index, test_index in kf.split(y):\n",
        "    y_train, y_test = y[train_index], y[test_index]\n",
        "\n",
        "    for i, lam in enumerate(lambda_values):\n",
        "\n",
        "        # Apply LQE to estimate states based on training data\n",
        "        x_hat = lqe(A, B, C, y_train, T, lam, rcond=-1)\n",
        "\n",
        "        y_reconstructed = np.array([C @ x_t for x_t in x_hat]).flatten()\n",
        "\n",
        "        total_length = len(y_train) + len(y_test)\n",
        "        reconstructed_length = len(y_reconstructed)\n",
        "\n",
        "# Ensure y_reconstructed matches the combined length of y_train and y_test\n",
        "        if reconstructed_length != total_length:\n",
        "            pass\n",
        "\n",
        "# Calculate the split index for 80% of the combined y_train and y_test length\n",
        "        split_index = int(0.8 * total_length)\n",
        "\n",
        "# Split y_reconstructed into 80% for \"training\" and 20% for \"testing\"\n",
        "        y_reconstructed_train = y_reconstructed[:split_index]\n",
        "        y_reconstructed_test = y_reconstructed[split_index:]\n",
        "\n",
        "        # Calculate RMS errors\n",
        "        train_rms_error = np.sqrt(np.mean((y_train - y_reconstructed_train)**2))\n",
        "        test_rms_error = np.sqrt(np.mean((y_test - y_reconstructed_test)**2))\n",
        "\n",
        "        # Append RMS errors to their respective lists for the current fold\n",
        "        train_rms_errors[i, fold] = train_rms_error\n",
        "        test_rms_errors[i, fold] = test_rms_error\n",
        "\n",
        "    fold += 1\n",
        "\n",
        "# Calculate the average RMS error across all folds for each lambda\n",
        "avg_train_rms_errors = np.mean(train_rms_errors, axis=1)\n",
        "avg_test_rms_errors = np.mean(test_rms_errors, axis=1)\n",
        "\n",
        "# Plotting the average RMS error vs. lambda for both training and testing datasets\n",
        "plt.figure(figsize=(10, 6))\n",
        "plt.semilogx(lambda_values, avg_train_rms_errors, marker='o', label='Avg Train RMS Error')\n",
        "plt.semilogx(lambda_values, avg_test_rms_errors, marker='x', label='Avg Test RMS Error')\n",
        "plt.xlabel('Lambda')\n",
        "plt.ylabel('RMS Error')\n",
        "plt.title('Average RMS Error vs. Lambda for Training and Testing Datasets across {}-Folds'.format(k))\n",
        "plt.legend()\n",
        "plt.grid(True)\n",
        "plt.show()"
      ],
      "metadata": {
        "colab": {
          "base_uri": "https://localhost:8080/",
          "height": 694
        },
        "id": "6OV3zHfeqIet",
        "outputId": "cfb5034d-dce5-446e-a16b-9cdc826c5c4b"
      },
      "execution_count": null,
      "outputs": [
        {
          "output_type": "execute_result",
          "data": {
            "text/plain": [
              "<Figure size 1000x600 with 0 Axes>"
            ]
          },
          "metadata": {},
          "execution_count": 7
        },
        {
          "output_type": "execute_result",
          "data": {
            "text/plain": [
              "[<matplotlib.lines.Line2D at 0x7ca7eec71210>]"
            ]
          },
          "metadata": {},
          "execution_count": 7
        },
        {
          "output_type": "execute_result",
          "data": {
            "text/plain": [
              "[<matplotlib.lines.Line2D at 0x7ca7eec70130>]"
            ]
          },
          "metadata": {},
          "execution_count": 7
        },
        {
          "output_type": "execute_result",
          "data": {
            "text/plain": [
              "Text(0.5, 0, 'Lambda')"
            ]
          },
          "metadata": {},
          "execution_count": 7
        },
        {
          "output_type": "execute_result",
          "data": {
            "text/plain": [
              "Text(0, 0.5, 'RMS Error')"
            ]
          },
          "metadata": {},
          "execution_count": 7
        },
        {
          "output_type": "execute_result",
          "data": {
            "text/plain": [
              "Text(0.5, 1.0, 'Average RMS Error vs. Lambda for Training and Testing Datasets across 5-Folds')"
            ]
          },
          "metadata": {},
          "execution_count": 7
        },
        {
          "output_type": "execute_result",
          "data": {
            "text/plain": [
              "<matplotlib.legend.Legend at 0x7ca7eee1cac0>"
            ]
          },
          "metadata": {},
          "execution_count": 7
        },
        {
          "output_type": "display_data",
          "data": {
            "text/plain": [
              "<Figure size 1000x600 with 1 Axes>"
            ],
            "image/png": "[encoded data removed]"
          },
          "metadata": {}
        }
      ]
    },
    {
      "cell_type": "code",
      "source": [],
      "metadata": {
        "id": "BYPDpOGhqY5-"
      },
      "execution_count": null,
      "outputs": []
    },
    {
      "cell_type": "code",
      "source": [
        "k = 5  # Example: using 5-fold cross-validation\n",
        "kf = KFold(n_splits=k, shuffle=True, random_state=42)\n",
        "train_rms_errors = np.zeros((len(lambda_values), k))\n",
        "test_rms_errors = np.zeros((len(lambda_values), k))\n",
        "\n",
        "\n",
        "fold = 0\n",
        "for train_index, test_index in kf.split(y):\n",
        "    y_train, y_test = y[train_index], y[test_index]\n",
        "\n",
        "    for i, lam in enumerate(lambda_values):\n",
        "        # Apply LQE to estimate states based on training data\n",
        "        x_hat = lqe(A, B, C, y_train, T, lam, rcond=-1)\n",
        "\n",
        "        y_reconstructed = np.array([C @ x_t for x_t in x_hat]).flatten()\n",
        "\n",
        "        # Here we ensure y_reconstructed is the same size as y_train before calculating the error\n",
        "        y_reconstructed_train = y_reconstructed[:len(y_train)]\n",
        "        y_reconstructed_test = y_reconstructed[len(y_train):len(y_train) + len(y_test)]\n",
        "\n",
        "        # Calculate RMS errors\n",
        "        train_rms_error = np.sqrt(np.mean((y_train - y_reconstructed_train)**2))\n",
        "        test_rms_error = np.sqrt(np.mean((y_test - y_reconstructed_test)**2))\n",
        "\n",
        "        # Append RMS errors to their respective lists for the current fold\n",
        "        train_rms_errors[i, fold] = train_rms_error\n",
        "        test_rms_errors[i, fold] = test_rms_error\n",
        "\n",
        "    fold += 1\n",
        "\n",
        "# Calculate the average RMS error across all folds for each lambda\n",
        "avg_train_rms_errors = np.mean(train_rms_errors, axis=1)\n",
        "avg_test_rms_errors = np.mean(test_rms_errors, axis=1)\n",
        "\n",
        "# Plotting the average RMS error vs. lambda for both training and testing datasets\n",
        "plt.figure(figsize=(10, 6))\n",
        "plt.semilogx(lambda_values, avg_train_rms_errors, marker='o', label='Avg Train RMS Error')\n",
        "plt.semilogx(lambda_values, avg_test_rms_errors, marker='x', label='Avg Test RMS Error')\n",
        "plt.xlabel('Lambda')\n",
        "plt.ylabel('RMS Error')\n",
        "plt.title('Average RMS Error vs. Lambda for Training and Testing Datasets across {}-Folds'.format(k))\n",
        "plt.legend()\n",
        "plt.grid(True)\n",
        "plt.show()\n"
      ],
      "metadata": {
        "colab": {
          "base_uri": "https://localhost:8080/",
          "height": 1000
        },
        "id": "fYTjxyNz2rQb",
        "outputId": "6fcbd4a8-262e-4627-c439-2dd21dd5fba9"
      },
      "execution_count": null,
      "outputs": [
        {
          "output_type": "stream",
          "name": "stdout",
          "text": [
            "(398, 598)\n",
            "(398, 598)\n",
            "(398, 598)\n",
            "(398, 598)\n",
            "(398, 598)\n",
            "(398, 598)\n",
            "(398, 598)\n",
            "(398, 598)\n",
            "(398, 598)\n",
            "(398, 598)\n",
            "(398, 598)\n",
            "(398, 598)\n",
            "(398, 598)\n",
            "(398, 598)\n",
            "(398, 598)\n",
            "(398, 598)\n",
            "(398, 598)\n",
            "(398, 598)\n",
            "(398, 598)\n",
            "(398, 598)\n",
            "(398, 598)\n",
            "(398, 598)\n",
            "(398, 598)\n",
            "(398, 598)\n",
            "(398, 598)\n",
            "(398, 598)\n",
            "(398, 598)\n",
            "(398, 598)\n",
            "(398, 598)\n",
            "(398, 598)\n",
            "(398, 598)\n",
            "(398, 598)\n",
            "(398, 598)\n",
            "(398, 598)\n",
            "(398, 598)\n",
            "(398, 598)\n",
            "(398, 598)\n",
            "(398, 598)\n",
            "(398, 598)\n",
            "(398, 598)\n",
            "(398, 598)\n",
            "(398, 598)\n",
            "(398, 598)\n",
            "(398, 598)\n",
            "(398, 598)\n",
            "(398, 598)\n",
            "(398, 598)\n",
            "(398, 598)\n",
            "(398, 598)\n",
            "(398, 598)\n",
            "(398, 598)\n",
            "(398, 598)\n",
            "(398, 598)\n",
            "(398, 598)\n",
            "(398, 598)\n",
            "(398, 598)\n",
            "(398, 598)\n",
            "(398, 598)\n",
            "(398, 598)\n",
            "(398, 598)\n",
            "(398, 598)\n",
            "(398, 598)\n",
            "(398, 598)\n",
            "(398, 598)\n",
            "(398, 598)\n",
            "(398, 598)\n",
            "(398, 598)\n",
            "(398, 598)\n",
            "(398, 598)\n",
            "(398, 598)\n",
            "(398, 598)\n",
            "(398, 598)\n",
            "(398, 598)\n",
            "(398, 598)\n",
            "(398, 598)\n",
            "(398, 598)\n",
            "(398, 598)\n",
            "(398, 598)\n",
            "(398, 598)\n",
            "(398, 598)\n",
            "(398, 598)\n",
            "(398, 598)\n",
            "(398, 598)\n",
            "(398, 598)\n",
            "(398, 598)\n",
            "(398, 598)\n",
            "(398, 598)\n",
            "(398, 598)\n",
            "(398, 598)\n",
            "(398, 598)\n",
            "(398, 598)\n",
            "(398, 598)\n",
            "(398, 598)\n",
            "(398, 598)\n",
            "(398, 598)\n",
            "(398, 598)\n",
            "(398, 598)\n",
            "(398, 598)\n",
            "(398, 598)\n",
            "(398, 598)\n"
          ]
        },
        {
          "output_type": "execute_result",
          "data": {
            "text/plain": [
              "<Figure size 1000x600 with 0 Axes>"
            ]
          },
          "metadata": {},
          "execution_count": 10
        },
        {
          "output_type": "execute_result",
          "data": {
            "text/plain": [
              "[<matplotlib.lines.Line2D at 0x7ca7ee232f20>]"
            ]
          },
          "metadata": {},
          "execution_count": 10
        },
        {
          "output_type": "execute_result",
          "data": {
            "text/plain": [
              "[<matplotlib.lines.Line2D at 0x7ca7ee233340>]"
            ]
          },
          "metadata": {},
          "execution_count": 10
        },
        {
          "output_type": "execute_result",
          "data": {
            "text/plain": [
              "Text(0.5, 0, 'Lambda')"
            ]
          },
          "metadata": {},
          "execution_count": 10
        },
        {
          "output_type": "execute_result",
          "data": {
            "text/plain": [
              "Text(0, 0.5, 'RMS Error')"
            ]
          },
          "metadata": {},
          "execution_count": 10
        },
        {
          "output_type": "execute_result",
          "data": {
            "text/plain": [
              "Text(0.5, 1.0, 'Average RMS Error vs. Lambda for Training and Testing Datasets across 5-Folds')"
            ]
          },
          "metadata": {},
          "execution_count": 10
        },
        {
          "output_type": "execute_result",
          "data": {
            "text/plain": [
              "<matplotlib.legend.Legend at 0x7ca7ee1163e0>"
            ]
          },
          "metadata": {},
          "execution_count": 10
        },
        {
          "output_type": "display_data",
          "data": {
            "text/plain": [
              "<Figure size 1000x600 with 1 Axes>"
            ],
            "image/png": "[encoded data removed]"
          },
          "metadata": {}
        }
      ]
    }
  ]
}